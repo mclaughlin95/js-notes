{
 "cells": [
  {
   "cell_type": "markdown",
   "id": "300339e7-86e5-45e9-8a5c-bd1c24b02866",
   "metadata": {},
   "source": [
    "# [You Don't Know JavaScript: ASYNC & Performance](https://www.oreilly.com/library/view/you-dont-know/9781491905197/)\n",
    "Kyle Simpson (O'Reilly)  \n",
    "Copyright 2015 Getify Solutions Inc.  \n",
    "978-1-491-90422-0\n",
    "\n",
    "___"
   ]
  },
  {
   "cell_type": "code",
   "execution_count": null,
   "id": "8e79bf1d-6401-4e2f-8f37-e52432f456c1",
   "metadata": {},
   "outputs": [],
   "source": []
  }
 ],
 "metadata": {
  "kernelspec": {
   "display_name": "JavaScript (Node.js)",
   "language": "javascript",
   "name": "javascript"
  },
  "language_info": {
   "file_extension": ".js",
   "mimetype": "application/javascript",
   "name": "javascript",
   "version": "16.13.1"
  }
 },
 "nbformat": 4,
 "nbformat_minor": 5
}
