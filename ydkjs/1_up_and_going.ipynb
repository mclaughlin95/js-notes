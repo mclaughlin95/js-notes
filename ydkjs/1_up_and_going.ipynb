{
 "cells": [
  {
   "cell_type": "markdown",
   "id": "9c5ce9c4-3fd9-49dc-8511-58511e845481",
   "metadata": {},
   "source": [
    "# [You Don't Know JavaScript: Up & Going](https://www.oreilly.com/library/view/you-dont-know/9781491924471/)\n",
    "Kyle Simpson (O'Reilly)  \n",
    "Copyright 2015 Getify Solutions Inc.  \n",
    "978-1-491-92446-4"
   ]
  },
  {
   "cell_type": "markdown",
   "id": "4917486e-d306-45b1-be87-134560df3d9d",
   "metadata": {},
   "source": [
    "___\n",
    "## [The Good Parts ](#TheGoodParts)\n",
    "vii Preface  \n",
    "\n",
    "If at every point that you encounter a suprise or fustration in JavaScript, your response is to add it to the blacklist, you soon will be relegated to a hollow shell of the richness JavaScript.\n",
    "\n",
    "While this subset has been famously dubbed \"The Good Parts\", I would implore you, dear reader, to instead consider it the \"The Easy Parts\", \"The Safe Parts\" or even \"The Incomplete Parts\".\n",
    "\n",
    "You Don't Know JS offers a contary challenge: learn and deeply understand all of JavaScript, even and especially, \"The Tough Parts\".\n",
    "\n",
    "JS Developers have a tendency to learn just enough to get by, without ever forcing themselves to learn exactly how and why the language behaves the way it does. \n",
    "\n",
    "With that said, you should be learning all parts of JavaScript. Not just \"The Good Parts\""
   ]
  },
  {
   "cell_type": "markdown",
   "id": "fbcdb4d9-5bd0-4a37-8f3e-3d1108177ba2",
   "metadata": {},
   "source": [
    "___\n",
    "# String Literals\n",
    "\n",
    "Chapter 1, Page 10\n",
    "\n",
    "Are surrounded by double quotes (\"...\") or single quotes ('...'). The only difference is stylistic preference\n",
    "\n",
    "[Google JS Style Guide](https://google.github.io/styleguide/jsguide.html#features-string-literals) states that you should use single quotes as it supports the usage of double quotes within. Meaning, you can capture HTML elements without the need to encode or escape DOM Values"
   ]
  },
  {
   "cell_type": "code",
   "execution_count": 1,
   "id": "060d03f8-c901-415a-bb42-617603580d9a",
   "metadata": {},
   "outputs": [
    {
     "data": {
      "text/plain": [
       "'<div id=\"main\"></div>'"
      ]
     },
     "execution_count": 1,
     "metadata": {},
     "output_type": "execute_result"
    }
   ],
   "source": [
    "// Single Quotes\n",
    "// No DOM Escaping Required\n",
    "'<div id=\"main\"></div>'"
   ]
  },
  {
   "cell_type": "code",
   "execution_count": 2,
   "id": "090b27b3-7151-4fd0-a74d-a31d485d2dab",
   "metadata": {},
   "outputs": [
    {
     "data": {
      "text/plain": [
       "'<div id=\"main\"></div>'"
      ]
     },
     "execution_count": 2,
     "metadata": {},
     "output_type": "execute_result"
    }
   ],
   "source": [
    "// Double Quotes\n",
    "// DOM Escaping Required\n",
    "\"<div id=\\\"main\\\"></div>\""
   ]
  },
  {
   "cell_type": "markdown",
   "id": "15f40f37-5e9c-4d3d-9798-34b3c748af3b",
   "metadata": {},
   "source": [
    "___\n",
    "## Coercion\n",
    "Chapter 1, Page 11-12  \n",
    "Chapter 2, Page 35"
   ]
  },
  {
   "cell_type": "markdown",
   "id": "e25c8a7b-83d3-4adb-9bbf-34cb272c76e9",
   "metadata": {},
   "source": [
    "[Coercion Pronunciation](https://www.google.com/search?q=coercion&rlz=1C1ONGR_enUS991US991&oq=co&aqs=chrome.0.69i59j69i57j69i59l2j69i60l4.1665j1j4&sourceid=chrome&ie=UTF-8): \"kow\"·\"ur\"·\"zhn\"  \n",
    "[Coerce Pronounciation](https://www.google.com/search?q=coerce&rlz=1C1ONGR_enUS991US991&oq=coerce&aqs=chrome..69i57j0i433i512l2j0i512j0i433i512j0i512l5.3730j1j7&sourceid=chrome&ie=UTF-8): \"kow\"·\"urs\"  \n",
    "Is the process of converting a value from one data type to another  "
   ]
  },
  {
   "cell_type": "markdown",
   "id": "2c321c7c-1ab4-4edf-be08-703a425c0065",
   "metadata": {},
   "source": [
    "***Explicit Coercion*** is the process of using a built in function to translate one data type to another. It is simply one that you can see from the code that a conversion from one type to another will occur."
   ]
  },
  {
   "cell_type": "code",
   "execution_count": 3,
   "id": "14318443-f319-40f3-9770-d3619f83e8a1",
   "metadata": {},
   "outputs": [
    {
     "data": {
      "text/plain": [
       "3"
      ]
     },
     "execution_count": 3,
     "metadata": {},
     "output_type": "execute_result"
    }
   ],
   "source": [
    "// Explicit Coercion - String to Number\n",
    "Number(\"3\")"
   ]
  },
  {
   "cell_type": "markdown",
   "id": "883b2c9d-fbac-4025-9fa6-38e672dd2608",
   "metadata": {},
   "source": [
    "***Implicit Coercion*** is the process of allowing the language to loosely translating one data type to another. This type of coercion happens more of a non-obvious side effect of some other operation.  \n",
    "In the following example, JavaScript will convert the data type that is on the left hand side of the operator to the data type of the right hand side"
   ]
  },
  {
   "cell_type": "code",
   "execution_count": 4,
   "id": "6555b8df-230d-4826-b996-406ec9a70056",
   "metadata": {},
   "outputs": [
    {
     "data": {
      "text/plain": [
       "true"
      ]
     },
     "execution_count": 4,
     "metadata": {},
     "output_type": "execute_result"
    }
   ],
   "source": [
    "// Implicit Coercion\n",
    "\"99.99\" == 99.99"
   ]
  },
  {
   "cell_type": "markdown",
   "id": "f90c704a-9a7a-4c4b-a9c7-c51b4d7da5ef",
   "metadata": {},
   "source": [
    "<pre>\"99.99\" == 99.99\n",
    "\n",
    "Coerces to\n",
    "\n",
    "99.99 == 99.99</pre>"
   ]
  },
  {
   "cell_type": "markdown",
   "id": "ffed02f0-5c70-4575-a4d3-4065644a83fb",
   "metadata": {},
   "source": [
    "Implicit Coercion can create confusion if you haven't taken the time to learn the rules that govern its behavior.  \n",
    "It's a mechanism that can be learned, and moreover should be learned by anyone wishing to take JavaScript programming seriously."
   ]
  },
  {
   "cell_type": "markdown",
   "id": "f5f24f7c-2b4e-4790-b9e0-57be11fa76b1",
   "metadata": {},
   "source": [
    "___\n",
    "## Comments\n",
    "Chapter 1, Page 12-13\n",
    "\n",
    "* Code without comments are suboptimal\n",
    "* Too many comments (on per line, for example) is probably a sign of poorly written code\n",
    "* Comments should explain why, not what. They can optionally explain how if what's written is particularly confusing"
   ]
  },
  {
   "cell_type": "markdown",
   "id": "52865239-df62-4935-a06d-0453af003f45",
   "metadata": {},
   "source": [
    "___\n",
    "## Constants\n",
    "Chapter 1, Page 16-17  \n",
    "\n",
    "A ***Constant*** is a variable that contains a value that is intended to NOT change during the course of program. By convention they are usually capitalized with underscores between multiple words.\n",
    "\n",
    "Prior to ES6, ***var*** is constant by convention, there is nothing special that prevents the value from being changed."
   ]
  },
  {
   "cell_type": "code",
   "execution_count": 5,
   "id": "933e6cf7-cf5e-414a-83a6-016c4044499b",
   "metadata": {},
   "outputs": [
    {
     "name": "stdout",
     "output_type": "stream",
     "text": [
      "0.08\n"
     ]
    }
   ],
   "source": [
    "// var\n",
    "(() => {\n",
    "    var TAX_RATE = 0.06;\n",
    "    TAX_RATE = 0.08; // Nothing special to prevent the value from being changed\n",
    "    console.log(TAX_RATE);\n",
    "})();"
   ]
  },
  {
   "cell_type": "markdown",
   "id": "d137778a-dc2b-4bc0-a4a6-ef631b4e7a32",
   "metadata": {},
   "source": [
    "ES6 includes a new way to delcare constants, by using ***const***. It prevents accidently changing the value. If you try assigning a different value after the first declaration, it would reject the change. More so, if \"Strict Mode\" is enabled, it would fail with an error"
   ]
  },
  {
   "cell_type": "code",
   "execution_count": 6,
   "id": "565b8850-c0ef-4e7a-9158-cd8732e107b9",
   "metadata": {},
   "outputs": [
    {
     "ename": "TypeError",
     "evalue": "Assignment to constant variable.",
     "execution_count": 6,
     "output_type": "error",
     "traceback": [
      "evalmachine.<anonymous>:4",
      "    TAX_RATE = 0.08;",
      "             ^",
      "",
      "TypeError: Assignment to constant variable.",
      "    at evalmachine.<anonymous>:4:14",
      "    at evalmachine.<anonymous>:6:3",
      "    at Script.runInThisContext (node:vm:129:12)",
      "    at Object.runInThisContext (node:vm:305:38)",
      "    at run ([eval]:1020:15)",
      "    at onRunRequest ([eval]:864:18)",
      "    at onMessage ([eval]:828:13)",
      "    at process.emit (node:events:390:28)",
      "    at emit (node:internal/child_process:917:12)",
      "    at processTicksAndRejections (node:internal/process/task_queues:84:21)"
     ]
    }
   ],
   "source": [
    "// const\n",
    "(() => {\n",
    "    const TAX_RATE = 0.06;\n",
    "    TAX_RATE = 0.08;\n",
    "    console.log(TAX_RATE);\n",
    "})();"
   ]
  },
  {
   "cell_type": "markdown",
   "id": "0adb950f-167d-4889-8f7c-e52dac588883",
   "metadata": {
    "jp-MarkdownHeadingCollapsed": true,
    "tags": []
   },
   "source": [
    "___\n",
    "## Values & Types\n",
    "Chapter 2, Page 30-31\n",
    "\n",
    "There are seven built-in types\n",
    "1. string\n",
    "2. number\n",
    "3. boolean\n",
    "4. null\n",
    "5. undefined\n",
    "6. object\n",
    "7. symbol (new to ES6)\n",
    "\n",
    "Note: Only values have types, variables are just simple containers for those values\n",
    "\n",
    "### Objects\n",
    "***null*** is an interesting case because it errantly returns \"object\" when to expect it to return \"null\""
   ]
  },
  {
   "cell_type": "code",
   "execution_count": 7,
   "id": "03f9e62e-f24d-4d8d-b03a-c3c717f4f5a1",
   "metadata": {},
   "outputs": [
    {
     "data": {
      "text/plain": [
       "'object'"
      ]
     },
     "execution_count": 7,
     "metadata": {},
     "output_type": "execute_result"
    }
   ],
   "source": [
    "typeof null"
   ]
  },
  {
   "cell_type": "markdown",
   "id": "0232e087-71e2-48d1-8778-1bd5feda6047",
   "metadata": {},
   "source": [
    "***array*** and ***function*** are objects and not built in types. You can think of these as specialized versions of the ***object*** type"
   ]
  },
  {
   "cell_type": "code",
   "execution_count": 8,
   "id": "9611f0f5-7ea4-4857-9813-3bb2291d20e2",
   "metadata": {},
   "outputs": [
    {
     "data": {
      "text/plain": [
       "'object'"
      ]
     },
     "execution_count": 8,
     "metadata": {},
     "output_type": "execute_result"
    }
   ],
   "source": [
    "typeof []"
   ]
  },
  {
   "cell_type": "markdown",
   "id": "02fcf617-333a-4050-af79-433c6be8f727",
   "metadata": {},
   "source": [
    "However, the typeof for a ***function*** will return ***function***. Function is not a built-in type, it is a derivitive of an ***object***"
   ]
  },
  {
   "cell_type": "code",
   "execution_count": 9,
   "id": "9821df13-b702-4cd0-bbc3-fd4d9d0a9b24",
   "metadata": {},
   "outputs": [
    {
     "data": {
      "text/plain": [
       "'function'"
      ]
     },
     "execution_count": 9,
     "metadata": {},
     "output_type": "execute_result"
    }
   ],
   "source": [
    "(() => {\n",
    "    function foobar() {}\n",
    "    return typeof foobar\n",
    "})();"
   ]
  },
  {
   "cell_type": "markdown",
   "id": "5e7d9610-53aa-4f67-9d67-35dde43587d6",
   "metadata": {},
   "source": [
    "___\n",
    "## Truthy & Falsy\n",
    "Chapter 2, Page 36\n",
    "\n",
    "Are values that result to a boolean value when coerced \n",
    "\n",
    "### Falsy:"
   ]
  },
  {
   "cell_type": "code",
   "execution_count": 10,
   "id": "518c91be-0714-4885-b12c-71d284ec49f8",
   "metadata": {},
   "outputs": [
    {
     "data": {
      "text/plain": [
       "false"
      ]
     },
     "execution_count": 10,
     "metadata": {},
     "output_type": "execute_result"
    }
   ],
   "source": [
    "Boolean(\"\")"
   ]
  },
  {
   "cell_type": "code",
   "execution_count": 11,
   "id": "8a58ff3e-102c-4891-a061-face952690c2",
   "metadata": {},
   "outputs": [
    {
     "data": {
      "text/plain": [
       "false"
      ]
     },
     "execution_count": 11,
     "metadata": {},
     "output_type": "execute_result"
    }
   ],
   "source": [
    "Boolean(0)"
   ]
  },
  {
   "cell_type": "code",
   "execution_count": 12,
   "id": "4cd02915-a254-459f-8767-5275f2465db9",
   "metadata": {},
   "outputs": [
    {
     "data": {
      "text/plain": [
       "false"
      ]
     },
     "execution_count": 12,
     "metadata": {},
     "output_type": "execute_result"
    }
   ],
   "source": [
    "Boolean(-0)"
   ]
  },
  {
   "cell_type": "code",
   "execution_count": 13,
   "id": "8796ec1b-35a8-4e0b-96b0-921b7c4913e1",
   "metadata": {},
   "outputs": [
    {
     "data": {
      "text/plain": [
       "false"
      ]
     },
     "execution_count": 13,
     "metadata": {},
     "output_type": "execute_result"
    }
   ],
   "source": [
    "Boolean(null)"
   ]
  },
  {
   "cell_type": "code",
   "execution_count": 14,
   "id": "19891127-601c-43a4-8f02-c2f4e64dc83d",
   "metadata": {},
   "outputs": [
    {
     "data": {
      "text/plain": [
       "false"
      ]
     },
     "execution_count": 14,
     "metadata": {},
     "output_type": "execute_result"
    }
   ],
   "source": [
    "Boolean(undefined)"
   ]
  },
  {
   "cell_type": "code",
   "execution_count": 15,
   "id": "eaf1e0cb-e6c1-4c93-8221-c937b85baf86",
   "metadata": {},
   "outputs": [
    {
     "data": {
      "text/plain": [
       "false"
      ]
     },
     "execution_count": 15,
     "metadata": {},
     "output_type": "execute_result"
    }
   ],
   "source": [
    "Boolean(false)"
   ]
  },
  {
   "cell_type": "markdown",
   "id": "1f8cf3f6-4aaa-4177-a2c7-b41810a016b8",
   "metadata": {},
   "source": [
    "### Truthy:  \n",
    "Is anything that is not on the falsy list"
   ]
  },
  {
   "cell_type": "code",
   "execution_count": 16,
   "id": "0aed1300-4cdd-453e-99c5-ced2aa5b9abc",
   "metadata": {},
   "outputs": [
    {
     "data": {
      "text/plain": [
       "true"
      ]
     },
     "execution_count": 16,
     "metadata": {},
     "output_type": "execute_result"
    }
   ],
   "source": [
    "Boolean(\"hello\")"
   ]
  },
  {
   "cell_type": "code",
   "execution_count": 17,
   "id": "5285015e-8d0f-43b0-ada7-23d580e96e68",
   "metadata": {},
   "outputs": [
    {
     "data": {
      "text/plain": [
       "true"
      ]
     },
     "execution_count": 17,
     "metadata": {},
     "output_type": "execute_result"
    }
   ],
   "source": [
    "Boolean(42)"
   ]
  },
  {
   "cell_type": "code",
   "execution_count": 18,
   "id": "1eab4130-7539-4204-918c-2b772756d13a",
   "metadata": {},
   "outputs": [
    {
     "data": {
      "text/plain": [
       "true"
      ]
     },
     "execution_count": 18,
     "metadata": {},
     "output_type": "execute_result"
    }
   ],
   "source": [
    "Boolean(true)"
   ]
  },
  {
   "cell_type": "code",
   "execution_count": 19,
   "id": "717c15a6-e062-4ef0-984c-2c0942f41ce3",
   "metadata": {},
   "outputs": [
    {
     "data": {
      "text/plain": [
       "true"
      ]
     },
     "execution_count": 19,
     "metadata": {},
     "output_type": "execute_result"
    }
   ],
   "source": [
    "Boolean([])"
   ]
  },
  {
   "cell_type": "markdown",
   "id": "241faded-8fbb-45a3-b080-99ad5fe0f750",
   "metadata": {},
   "source": [
    "___\n",
    "## Equality\n",
    "Chapter 2, Page 37\n",
    "\n",
    "There are four equality operators\n",
    "\n",
    "1. ==\n",
    "2. ===\n",
    "3. !=\n",
    "4. !==\n",
    "    \n",
    "    \n",
    "Typical Understand of == vs === is:\n",
    "* == checks for value equality\n",
    "* === checks for value and type equality\n",
    "\n",
    "However, this is inaccurate: The proper understanding of == vs === is:\n",
    "* == checks for value equality with coercion allowed\n",
    "* === checks for value equality without coercion allowed"
   ]
  },
  {
   "cell_type": "code",
   "execution_count": 20,
   "id": "af40a65f-435d-411f-80e2-195f9617b6fc",
   "metadata": {},
   "outputs": [
    {
     "name": "stdout",
     "output_type": "stream",
     "text": [
      "true\n",
      "false\n"
     ]
    }
   ],
   "source": [
    "(() => {\n",
    "    var a = \"42\";\n",
    "    var b = 42;\n",
    "    console.log(a == b); // true\n",
    "    console.log(a === b); // false\n",
    "})();"
   ]
  },
  {
   "cell_type": "markdown",
   "id": "451c768f-5a64-468b-af42-339a1c2326fa",
   "metadata": {},
   "source": [
    "Simples rules to understanding coercion with equality\n",
    "\n",
    "* If either value in a comparion could be the true or false value, avoid == and use ===\n",
    "* If either value in a comparison could be of these specific values (0, \"\", or []), avoid == and use ===\n",
    "* In all other cases, you're safe to use =="
   ]
  },
  {
   "cell_type": "markdown",
   "id": "52ac2932-3e0a-49f1-8045-b5c5dcf24ab8",
   "metadata": {},
   "source": [
    "***Special Note***: When comparing non-primitive values like objects (functions and arrays included), equality is compared by reference and not the underlying values. For example arrays, are by default coerced to strings by simply joing all values with commas"
   ]
  },
  {
   "cell_type": "code",
   "execution_count": 21,
   "id": "7d996603-d371-482e-8a86-1dd99a3b7d5e",
   "metadata": {},
   "outputs": [
    {
     "name": "stdout",
     "output_type": "stream",
     "text": [
      "true\n",
      "true\n",
      "false\n"
     ]
    }
   ],
   "source": [
    "(() => {\n",
    "    var a = [1,2,3];\n",
    "    var b = [1,2,3];\n",
    "    var c = \"1,2,3\";\n",
    "    \n",
    "    console.log(a == c); // true\n",
    "    console.log(b == c); // true\n",
    "    console.log(a == b); // false\n",
    "})();"
   ]
  },
  {
   "cell_type": "markdown",
   "id": "6908e1a1-53d9-425a-aa65-80cb58a910b8",
   "metadata": {},
   "source": [
    "___\n",
    "## Inequality\n",
    "\n",
    "Chapter 2, Page 39-40"
   ]
  },
  {
   "cell_type": "markdown",
   "id": "46602190-0a83-4d81-b6b3-00c827467c87",
   "metadata": {},
   "source": [
    "There are four inequality operators\n",
    "\n",
    "1. \\<  \n",
    "2. \\>  \n",
    "3. \\<\\=  \n",
    "4. \\>\\=  \n",
    "    \n",
    "***Special Note***: Strings can also be compared for inequality using typical alphabetic rules"
   ]
  },
  {
   "cell_type": "code",
   "execution_count": 22,
   "id": "8bdccbb0-ae0c-403e-9c5b-212da167ff18",
   "metadata": {},
   "outputs": [
    {
     "data": {
      "text/plain": [
       "true"
      ]
     },
     "execution_count": 22,
     "metadata": {},
     "output_type": "execute_result"
    }
   ],
   "source": [
    "\"bar\" < \"foo\"; // don't do this"
   ]
  },
  {
   "cell_type": "markdown",
   "id": "fb1e0afa-3bb5-4800-980f-3835a99c553a",
   "metadata": {},
   "source": [
    "***Special Note***: There are no strict inequality operators that would disallow coercion\n",
    "\n",
    "An example of coersion problems with inequality operators:"
   ]
  },
  {
   "cell_type": "code",
   "execution_count": 23,
   "id": "2d3c6243-8ec6-48a0-8b20-497fb657c25b",
   "metadata": {},
   "outputs": [
    {
     "name": "stdout",
     "output_type": "stream",
     "text": [
      "false\n",
      "false\n",
      "false\n"
     ]
    }
   ],
   "source": [
    "(() => {\n",
    "    var a = 42;\n",
    "    var b = \"foo\";\n",
    "    \n",
    "    console.log(a < b); // false\n",
    "    console.log(a > b); // false\n",
    "    console.log(a == b); // false\n",
    "})();"
   ]
  },
  {
   "cell_type": "markdown",
   "id": "dfe0575c-60db-4439-a21b-e38f39c42725",
   "metadata": {},
   "source": [
    "The reason these are all false is because the value of b is being coerced to NaN in the < and > comparisons\n",
    "\n",
    "***Special Note***: ***NaN*** is neither greater than nor less than any other value"
   ]
  },
  {
   "cell_type": "markdown",
   "id": "ce1b8bc3-daa5-4318-944a-f1b28e036fc8",
   "metadata": {},
   "source": [
    "___\n",
    "## Scope & Hoisting\n",
    "Chapter 2, Page 41-43\n",
    "\n",
    "***Hoisting*** - is when a declaration of an entity is moved to be accessible throughout the entire scope. For example, a var is conceptually moved to the top of its enclosing scope during compilation"
   ]
  },
  {
   "cell_type": "code",
   "execution_count": 24,
   "id": "656a254b-4b64-4260-9f32-368cba60d538",
   "metadata": {},
   "outputs": [
    {
     "name": "stdout",
     "output_type": "stream",
     "text": [
      "3\n",
      "2\n"
     ]
    }
   ],
   "source": [
    "(() => {\n",
    "    var a = 2;\n",
    "    \n",
    "    foo(); // This works because the function declaration is hoisted to the top during compilation\n",
    "    \n",
    "    function foo() {\n",
    "        a = 3;\n",
    "        console.log(a);\n",
    "        var a; // This works because the variable a overrides the global variable, and gets hoisted to the top of the foo function\n",
    "    }\n",
    "    \n",
    "    console.log(a);\n",
    "})();"
   ]
  },
  {
   "cell_type": "markdown",
   "id": "3e82838a-9632-418c-8a82-4ca13558a16d",
   "metadata": {},
   "source": [
    "***Special Note***: If you try to set a variable that hasn't been declared, you'll either end up creating a variable in the top-level global scope (bad!). You can prevent this by using \"strict mode\""
   ]
  },
  {
   "cell_type": "markdown",
   "id": "bb58790a-ea8d-49f5-8d9e-4458f99e88d2",
   "metadata": {},
   "source": [
    "### let\n",
    "As of ES6 you can declare variables to belong to individual blocks <pre>{ ... }</pre>"
   ]
  },
  {
   "cell_type": "markdown",
   "id": "0dd0608b-117d-47bc-8973-d63112aeeb5b",
   "metadata": {},
   "source": [
    "___\n",
    "## Strict Mode\n",
    "Chapter 2, Page 45-46  \n",
    "ES5 add strict mode which tightens the rules for certain behaviors. It makes your code generally more optimized by the engine, its a big win for code.  \n",
    "***You should use it for all your programs***\n",
    "\n",
    "You can opt in to strict mode for an individual function, or an entire file"
   ]
  },
  {
   "cell_type": "code",
   "execution_count": 25,
   "id": "f2dd067e-9464-4535-8d6c-a0b47a8fefce",
   "metadata": {},
   "outputs": [],
   "source": [
    "// Global\n",
    "(() => {\n",
    "    'use strict';\n",
    "})();"
   ]
  },
  {
   "cell_type": "code",
   "execution_count": 26,
   "id": "41402e0f-ac34-43c4-9984-960c03b78644",
   "metadata": {},
   "outputs": [],
   "source": [
    "// Function\n",
    "(() => {\n",
    "    \n",
    "    function foo() {\n",
    "        'use strict';\n",
    "    }\n",
    "\n",
    "})();"
   ]
  },
  {
   "cell_type": "markdown",
   "id": "87423658-a5aa-4cb7-9153-ef239ed2e026",
   "metadata": {},
   "source": [
    "An example of strict mode in place, the following example will result in an error as it is disallowing the implict auto-global variable"
   ]
  },
  {
   "cell_type": "code",
   "execution_count": 27,
   "id": "44ff79a9-60f4-4891-af62-e519f8d823ed",
   "metadata": {},
   "outputs": [
    {
     "ename": "ReferenceError",
     "evalue": "a is not defined",
     "execution_count": 27,
     "output_type": "error",
     "traceback": [
      "evalmachine.<anonymous>:3",
      "    a = 1; // Missing var, Reference Error",
      "      ^",
      "",
      "ReferenceError: a is not defined",
      "    at evalmachine.<anonymous>:3:7",
      "    at evalmachine.<anonymous>:4:3",
      "    at Script.runInThisContext (node:vm:129:12)",
      "    at Object.runInThisContext (node:vm:305:38)",
      "    at run ([eval]:1020:15)",
      "    at onRunRequest ([eval]:864:18)",
      "    at onMessage ([eval]:828:13)",
      "    at process.emit (node:events:390:28)",
      "    at emit (node:internal/child_process:917:12)",
      "    at processTicksAndRejections (node:internal/process/task_queues:84:21)"
     ]
    }
   ],
   "source": [
    "(() => {\n",
    "    'use strict'; // Enabling strict mode\n",
    "    a = 1; // Missing var, Reference Error\n",
    "})();"
   ]
  },
  {
   "cell_type": "markdown",
   "id": "ab8f0978-6915-4c93-93f7-d425545c4d2d",
   "metadata": {},
   "source": [
    "___\n",
    "## Functions as Values\n",
    "Chapter 2, Page 47  \n",
    "\n",
    "***function*** itself is a value, just like 42 or [1,2,3] would be"
   ]
  },
  {
   "cell_type": "code",
   "execution_count": 28,
   "id": "420867e3-dbe1-4f7a-a816-0686d386f92e",
   "metadata": {},
   "outputs": [
    {
     "name": "stdout",
     "output_type": "stream",
     "text": [
      "foo\n",
      "bar\n"
     ]
    }
   ],
   "source": [
    "(()=> {\n",
    "    \n",
    "    var foo = function() {  // Assigning an anonymous function as a value to the variable foo\n",
    "        console.log('foo');\n",
    "    };\n",
    "    \n",
    "    var x = function bar() { // Assigning a named function as a value to variable x. bar() doesn't exist\n",
    "        console.log('bar');\n",
    "    };\n",
    "    \n",
    "    foo();\n",
    "    x();    \n",
    "\n",
    "})();"
   ]
  },
  {
   "cell_type": "markdown",
   "id": "52890a81-de96-435e-8ebf-621f2fc13ea8",
   "metadata": {},
   "source": [
    "___\n",
    "## Immediately Invoked Function Expressions (IIFEs)\n",
    "Chapter 2, Page 47-49  \n",
    "IIFE is just a function, and functions create variable scope. In This fashion they are often used to decalre variables that wont affect the surrounding code outside the IIFE. As you may have witness in the code examples above!"
   ]
  },
  {
   "cell_type": "code",
   "execution_count": 29,
   "id": "360578b9-c4eb-4cdd-aea7-7f5bce7130bf",
   "metadata": {},
   "outputs": [
    {
     "name": "stdout",
     "output_type": "stream",
     "text": [
      "Hello!\n"
     ]
    }
   ],
   "source": [
    "(function IIFE(){\n",
    "    console.log('Hello!');\n",
    "})();"
   ]
  },
  {
   "cell_type": "markdown",
   "id": "3171114a-5aab-4cfd-8418-5fbcb445eb7a",
   "metadata": {},
   "source": [
    "The outer ( .. ) that surrounds the IIFE function is just a nuance of JS grammer needed to prevent it from being treated as a normal function declaration.  \n",
    "\n",
    "The final () on the end of the expression is what actually executes the function expression referenced immediately before it"
   ]
  },
  {
   "cell_type": "code",
   "execution_count": 30,
   "id": "e3cd8e11-ad30-42cf-9810-230218aa9431",
   "metadata": {},
   "outputs": [
    {
     "name": "stdout",
     "output_type": "stream",
     "text": [
      "2\n"
     ]
    },
    {
     "ename": "ReferenceError",
     "evalue": "a is not defined",
     "execution_count": 30,
     "output_type": "error",
     "traceback": [
      "evalmachine.<anonymous>:5",
      "console.log(a);",
      "            ^",
      "",
      "ReferenceError: a is not defined",
      "    at evalmachine.<anonymous>:5:13",
      "    at Script.runInThisContext (node:vm:129:12)",
      "    at Object.runInThisContext (node:vm:305:38)",
      "    at run ([eval]:1020:15)",
      "    at onRunRequest ([eval]:864:18)",
      "    at onMessage ([eval]:828:13)",
      "    at process.emit (node:events:390:28)",
      "    at emit (node:internal/child_process:917:12)",
      "    at processTicksAndRejections (node:internal/process/task_queues:84:21)"
     ]
    }
   ],
   "source": [
    "(() => {\n",
    "    var a = 2;\n",
    "    console.log(a);\n",
    "})();\n",
    "console.log(a);"
   ]
  },
  {
   "cell_type": "markdown",
   "id": "63182440-96cd-45f4-932b-dd19773a9bc2",
   "metadata": {},
   "source": [
    "___\n",
    "## Closure \n",
    "Chapter 2, Page 49-52\n",
    "\n",
    "***Closure*** is a way to access or remember and continue access to a functions scope (its variables) even after the function has finished running"
   ]
  },
  {
   "cell_type": "code",
   "execution_count": 31,
   "id": "7d4bb598-4fdf-4cb7-8e3a-256d79cb0062",
   "metadata": {},
   "outputs": [
    {
     "name": "stdout",
     "output_type": "stream",
     "text": [
      "4\n",
      "42\n",
      "23\n"
     ]
    }
   ],
   "source": [
    "(() => {\n",
    "    function makeAdder(x){\n",
    "        \n",
    "        function add(y){\n",
    "            return y + x;\n",
    "        }\n",
    "        \n",
    "        return add;\n",
    "    }\n",
    "    \n",
    "    var plusOne = makeAdder(1); // Assigns plusOne as the add function with 1 being x\n",
    "    var plusTen = makeAdder(10); // Assings plusTen as the add function with 10 being x\n",
    "    \n",
    "    console.log(plusOne(3)); // 3 + 1 = 4\n",
    "    console.log(plusOne(41)); // 41 + 1 = 42\n",
    "    \n",
    "    console.log(plusTen(13)); // 13 + 10 = 23\n",
    "\n",
    "})();"
   ]
  },
  {
   "cell_type": "markdown",
   "id": "5f0cc695-9132-4a57-b67f-720516b9e28d",
   "metadata": {},
   "source": [
    "Once you understand, its one of the most powerful and useful techniques in all of programming"
   ]
  },
  {
   "cell_type": "markdown",
   "id": "35760d08-55b6-4ba1-b86c-c1b36f32852d",
   "metadata": {},
   "source": [
    "### Modules"
   ]
  },
  {
   "cell_type": "markdown",
   "id": "bb3e1746-c1e4-45ed-9ce2-b85a533885a6",
   "metadata": {},
   "source": [
    "The most common usage of closure in JavaScript is the module pattern. Modules let you define private implementation details (variables, functions) that are hidden from the outside world, as well as a public API that is accessible from the outside"
   ]
  },
  {
   "cell_type": "code",
   "execution_count": 32,
   "id": "7d133bd0-3a43-4f02-846d-972468d23488",
   "metadata": {},
   "outputs": [
    {
     "name": "stdout",
     "output_type": "stream",
     "text": [
      "undefined\n"
     ]
    }
   ],
   "source": [
    "(() => {\n",
    "    \n",
    "    function User(){\n",
    "        var username;\n",
    "        var password;\n",
    "        \n",
    "        function doLogin(user, pw) {\n",
    "            username = user;\n",
    "            password = pw;\n",
    "            // do the rest of the login work\n",
    "        }\n",
    "        \n",
    "        var publicAPI = {\n",
    "            login: doLogin\n",
    "        };\n",
    "        \n",
    "        return publicAPI;\n",
    "    }\n",
    "    \n",
    "    var fred = User();\n",
    "    fred.login('fred', '12Battery34!');\n",
    "    \n",
    "    console.log(fred.username); // Results in undefined because username is privately hidden\n",
    "\n",
    "})();"
   ]
  },
  {
   "cell_type": "markdown",
   "id": "50c7201a-d312-445b-81a2-af58a967a46a",
   "metadata": {},
   "source": [
    "___\n",
    "## this Identifier \n",
    "Chapter 2, Page 52-53  \n",
    "\n",
    "While it may often seem that ***this*** is related to \"object-oriented patterns\", in JavaScript, ***this*** is a different mechanism\n",
    "\n",
    "For example, if a function has a ***this*** reference inside it, that ***this*** reference usually points to an object. But which object it points to depends on how to the function was called. It's important to realize that ***this*** does not refer the function itself, as is the most common misconception."
   ]
  },
  {
   "cell_type": "code",
   "execution_count": 33,
   "id": "788d31a7-9ae7-4a41-b726-25e92d0a4353",
   "metadata": {},
   "outputs": [
    {
     "name": "stdout",
     "output_type": "stream",
     "text": [
      "global\n",
      "obj1\n",
      "obj2\n",
      "undefined\n"
     ]
    }
   ],
   "source": [
    "(() => {\n",
    "\n",
    "    bar = 'global'; // leaks into global namespace. Bad, but only for this example\n",
    "    \n",
    "    function foo() {\n",
    "        console.log(this.bar);\n",
    "    }\n",
    "    \n",
    "    var obj1 = {\n",
    "        bar: 'obj1',\n",
    "        foo: foo\n",
    "    };\n",
    "    \n",
    "    var obj2 = {\n",
    "        bar: 'obj2'\n",
    "    };\n",
    "    \n",
    "    foo(); // global\n",
    "    obj1.foo(); // obj1\n",
    "    foo.call(obj2); // obj2\n",
    "    new foo(); // undefined\n",
    "    \n",
    "    delete bar; // Deleting global namespace variable\n",
    "    \n",
    "})();"
   ]
  },
  {
   "cell_type": "markdown",
   "id": "c35f71bf-53ee-46d3-8c19-3b3b8c11d761",
   "metadata": {},
   "source": [
    "Bottom Line: To understand what ***this*** points to, you have to examine how the function in question was called."
   ]
  },
  {
   "cell_type": "markdown",
   "id": "fbfd931c-d63a-4b20-93bc-fab8269a185c",
   "metadata": {},
   "source": [
    "___\n",
    "## Prototypes\n",
    "Chapter 2, Page 53-54\n",
    "\n",
    "When you reference a property on an object, if that property doesn't exist, JavaScript will automatically use that object's internal prototype reference to find another object to look for the property on. You could think of this almost as a fallback if the property is missing. Internal prototype reference linkage from one object to its fallback happens at the time the object is created. "
   ]
  },
  {
   "cell_type": "code",
   "execution_count": 34,
   "id": "d45c86f6-a305-40e3-b790-a0be271a1744",
   "metadata": {},
   "outputs": [
    {
     "name": "stdout",
     "output_type": "stream",
     "text": [
      "hello world\n",
      "42\n"
     ]
    }
   ],
   "source": [
    "(() => {\n",
    "    var foo = {\n",
    "        a: 42\n",
    "    };\n",
    "    \n",
    "    // create 'bar' and link it to 'foo'\n",
    "    var bar = Object.create( foo );\n",
    "    \n",
    "    bar.b = 'hello world';\n",
    "    \n",
    "    console.log(bar.b); // 'hello world'\n",
    "    console.log(bar.a); // 42 <-- delegates to 'foo'\n",
    "})();"
   ]
  },
  {
   "cell_type": "markdown",
   "id": "f1d17ca5-2c5c-4cef-8e6a-b9c1465588aa",
   "metadata": {},
   "source": [
    "The a property doesn't actually exist on the bar object, but because bar is prototype linked to foo, JavaScript automatically falls back to looking for a on the foo object, where its found.\n",
    "\n",
    "One way this feature is ***abused***, is to try to emulate/fake a class \"mechanism\" with \"inheritance\"\n",
    "\n",
    "A more natural way of applying prottypes is a pattern called \"***behavior delegation***\", where you intentionally design your linked objects to be able to delegate from one to the other for parts of the needed behavior"
   ]
  },
  {
   "cell_type": "markdown",
   "id": "04fd0945-4d25-4b19-baab-3a2818bc46bc",
   "metadata": {},
   "source": [
    "___\n",
    "## Polyfilling\n",
    "Chapter 2, Page 55-56\n",
    "\n",
    "***Polyfilling*** is an invented term used t orefer to taking the definition of a newer feature and producing a piece of code that equivalent to the behavior, but is able to run in older JS environments\n",
    "\n",
    "For example, ES6 defines a utility called Number.isNaN() depracting the original isNaN() utility. Here's how to polyfill Number.isNaN into ES5."
   ]
  },
  {
   "cell_type": "code",
   "execution_count": 35,
   "id": "88c5b5ec-0d04-4b54-a970-758c3d9be7ef",
   "metadata": {},
   "outputs": [],
   "source": [
    "if (!Number.isNaN) {\n",
    "    Number.isNaN = function isNaN(x) {\n",
    "        return x !== x;\n",
    "    };\n",
    "}"
   ]
  },
  {
   "cell_type": "markdown",
   "id": "e6c989a2-5b6b-43d2-b964-ae1210e0f3e6",
   "metadata": {},
   "source": [
    "You should be really, really careful in implementing a polyfill yourself, to make sure you are adhering to the specification as strictly as possible.\n",
    "\n",
    "Use already vetted set of polyfills that you can trust. Checkout [ES5 Polyfills](https://github.com/es-shims/es5-shim)"
   ]
  },
  {
   "cell_type": "markdown",
   "id": "9f2acc7a-f755-4550-886e-5534ba65de39",
   "metadata": {},
   "source": [
    "___\n",
    "## Transpiling\n",
    "Chapter 2, Page 56-58\n",
    "\n",
    "Since there is no way to polyfill ***new*** syntax, you should use a tool that converst your newer code into older code equivalents. This process is commonly called \"transpiling\".\n",
    "\n",
    "Transpilers should now be thought of as a standard part of the JS development ecoysystem process.\n",
    "\n",
    "Reasons to transpile:\n",
    "* The ***new*** syntax is desinged to make your code more readable and maintainable. The older equivalents are often more convoluted. You should prefer writing newer and cleaner syntax, not only for yourself but for all other members of the development team\n",
    "* If you transpile only for older browsers, but serve the new syntax to the newest browsers, you get to tkae advantage of browser performance optimizations"
   ]
  },
  {
   "cell_type": "markdown",
   "id": "32803d9c-af07-4b9d-bc41-5bbe4e13375f",
   "metadata": {},
   "source": [
    "Here are a list of transpilers:\n",
    "* [Babel](https://babeljs.io) - transpiles ES6+ to ES5\n",
    "* [Traceur](https://github.com/google/traceur-compiler) - transpiles ES6, ES7 and beyond to ES5"
   ]
  },
  {
   "cell_type": "markdown",
   "id": "345d764d-80d1-4515-ad3e-f09b8ca5353c",
   "metadata": {},
   "source": [
    "___\n",
    "## Non-JavaScript\n",
    "Chapter 2, Page 58-59\n",
    "\n",
    "Most of JavaScript is baked in, but one nuance is that the browser incorporates objects automatically into the Javascript engine. One of those is the DOM.API by injecting the document object.\n",
    "\n",
    "The document variable exists as a global variable when your code is running in a browser. It is not provided by the JavaScript engine, nor is it controlled by the JavaScript specification. It's a special type of object, often called a \"host\" object.\n",
    "\n",
    "On the surface, the DOM may appear to be in JavaScript, but traditionally it is implemented in something more like C/C++\n",
    "\n",
    "alert() and console.log() is another example this"
   ]
  }
 ],
 "metadata": {
  "kernelspec": {
   "display_name": "JavaScript (Node.js)",
   "language": "javascript",
   "name": "javascript"
  },
  "language_info": {
   "file_extension": ".js",
   "mimetype": "application/javascript",
   "name": "javascript",
   "version": "16.13.1"
  }
 },
 "nbformat": 4,
 "nbformat_minor": 5
}
