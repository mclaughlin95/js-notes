{
 "cells": [
  {
   "cell_type": "markdown",
   "id": "e51a7912-90ea-4063-9a0d-cd205ac551b7",
   "metadata": {},
   "source": [
    "# [You Don't Know JavaScript: Scope & Closures](https://www.oreilly.com/library/view/you-dont-know/9781449335571/?_gl=1*1ue0yd7*_ga*MjA4MjY3MDQ0Mi4xNjc2Mjc1MzAz*_ga_092EL089CH*MTY3NjMzNjI5MS4yLjAuMTY3NjMzNjI5Ni41NS4wLjA.)\n",
    "Kyle Simpson (O'Reilly)  \n",
    "Copyright 2014 Getify Solutions Inc.  \n",
    "978-1-449-33558-8\n",
    "___"
   ]
  },
  {
   "cell_type": "markdown",
   "id": "a12fcac4-c40b-4330-a42a-c15acef660c6",
   "metadata": {},
   "source": [
    "## Compiler Theory\n",
    "Chapter 1, Page 1\n",
    "\n",
    "JavaScript falls under the general category of \"dynamic\" or \"interpreted\" languages, it is in fact a compiled language. It's just not compiled in advanced."
   ]
  },
  {
   "cell_type": "markdown",
   "id": "cd931e3b-552d-426c-b6c9-d679a58010fb",
   "metadata": {},
   "source": [
    "### Compilation Process\n",
    "The JavaScript engine is vastly more complex than just these three steps. The compilation occurs in many cases mere microseconds (or less) before the code is executed. JavaScript engines use all kinds of tricks like lazy compiling and hot recompiling. \n",
    "\n",
    "1. ***Tokenizing/Lexing***  \n",
    "\n",
    "    ***Tokenizing***: Breaking up a string of characters into meaningful chunks called tokens  \n",
    "    ***Lexing***: if the tokenizer were to invoke stateful parsing rules to figure out whether <code>a</code> should be considered a distint token or just part of another token, this would be called lexing\n",
    "\n",
    "    String Example:\n",
    "    <pre>var a = 2;</pre>\n",
    "\n",
    "    Tokenized Output:\n",
    "    <pre>var, a, =, 2, ;</pre>\n",
    "    "
   ]
  },
  {
   "cell_type": "markdown",
   "id": "3c982fe1-d158-409c-b662-93ef7974c1f0",
   "metadata": {},
   "source": [
    "\n",
    "2. ***Parsing*** - is taking a stream (array) of tokens and turning it into a tree of nested elements. This tree is called an \"***AST***\" (Abstract syntax tree)\n",
    "\n",
    "    Tokenized array\n",
    "    <pre>var, a, =, 2, ;</pre>\n",
    "\n",
    "    Nested Tree:\n",
    "    <pre>\n",
    "    Variable Declaration:\n",
    "        Identifier Name: a\n",
    "            Assignment Expression:\n",
    "                NumericLiteral: 2\n",
    "    </pre>"
   ]
  },
  {
   "cell_type": "markdown",
   "id": "89ff83ff-75dd-4c9a-bfd0-bdd484a8f3a8",
   "metadata": {},
   "source": [
    "3. ***Code Generation*** - is the process of taking an AST and turning it into executable code. This part greatly depends on the language, the platform its targeting on, etc."
   ]
  },
  {
   "cell_type": "markdown",
   "id": "e900036a-fead-4d03-950d-da1310a6143c",
   "metadata": {},
   "source": [
    "___\n",
    "## Scope\n",
    "Chapter 1, Page 3 - 4\n",
    "\n",
    "***Scope*** - is the set of rules that determines where and how a variable (identifier) can be looked up\n",
    "\n",
    "* Engine - responsible for start-to-finish compilation and execution of our JavaScript program\n",
    "* Compiler - one of Engines friends; handles all the dirty work of parsing and code generation\n",
    "* Scope - collects and maintains a look-up list of all the declared identifiers (variables), and enforces a strict set of rules as to how these are accessible\n",
    "\n",
    "***Special Note***: Scope look-up stops once it find the first match. The same identifier name can be specified at multiple layers of nested scope, which is called \"shadowing\" (the inner identifier \"shadows\" the outer identifier)"
   ]
  },
  {
   "cell_type": "markdown",
   "id": "39112ea6-6ffe-4801-bdc7-4171c138a8eb",
   "metadata": {},
   "source": [
    "***LHS (Left Hand Side)*** - is done when a variable appears on the left hand side of an assignment operation   \n",
    "***RHS (Right Hand Side)*** - is indistinguishable. It's simply a look-up of the value of some variable. You could think of it in the means of \"retrieve his/her source (value)\", implying \"go get the value of...\""
   ]
  },
  {
   "cell_type": "markdown",
   "id": "57c98f3d-81ed-4bd7-83b1-cb8b5f9068c1",
   "metadata": {},
   "source": [
    "***TypeError*** - is an error that occurs when performing an action on a type that doesnt exist. This type of error states that the scope resolution was successfull, but there was an illegal/impossible action attempted. For example, trying to execute function on something that is a nonfunction  \n",
    "***ReferenceError*** - is scope resolution failure"
   ]
  },
  {
   "cell_type": "markdown",
   "id": "bc26619b-0cc2-46c8-a738-458d9f37d599",
   "metadata": {},
   "source": [
    "___\n",
    "## Lexical Scope\n",
    "Chapter 2, Page 13 - 21\n",
    "    \n",
    "***Lexical Scope*** - is scope that is defined at lexing time. It is based on where variable and blocks of scope are authored, and is mostly set in stone by the time the lexer processes your code.\n",
    "\n",
    "***Cheating Lexical Scope*** - is the process of modifying the compiled lexical scope while at runtime. This leads to poorer performance. JavaScript has a number of performance optimizations that it performs during the compilation phase which is based on the statically analyzed code from lexing, and determins where all the variable and function declarations are, so that it takes less effort to resolve identifiers during execution. By cheating lexical scope, you are essentially making it harder to resolve identifiers. There is no way of getting around the fact that without the optimizations, code runs slower. Here is a list of functions or keywords that cheat lexical scope: \n",
    "\n",
    "* <code>eval()</code> - allows you to modify the lexical scope environment by cheating and pretending that author-time (lexical) code was there all along. This function usually is used to execute dynamically created code, as dynamically evaluating essentially static code from a literal string would provide no real benefit to just authoring the code directly. If strict mode is enabled, the program operates in its own lexical scope, meaning it does not actually modify the neclosing scope.  \n",
    "* <code>with</code> - is a keyword that is now deprecated is shorthand for making multiple property references aginast an object without repeating the objects reference itself each time. This statement actually creates a whole new lexical scope out of thin air, froim the object you pass to it.   \n",
    "\n",
    "***Honorable Mentions***\n",
    "* <code>setTimeout()</code>, <code>setInterval()</code> - are essentially similar to <code>eval()</code>, which takes a string for their respective first argument, the contents of which are evaluated as the code of a dynamically generated function. This is old legacy behavior and long-since deprecated. Don't do it!  \n",
    "* <code>new Function()</code> - the function constructor similarly takes a string of code in its last argument to turn into a dynamically generated function (the first arguments, if any, are the named parameters for the new function). This function constructor syntax is slightly safer than <code>eval()</code>, but it should still be avoided in your code.  "
   ]
  },
  {
   "cell_type": "markdown",
   "id": "ee0bf220-4d73-4893-950c-46eddc92f22e",
   "metadata": {},
   "source": [
    "___\n",
    "## Scope From Functions\n",
    "Chapter 3, Page 23 - 28  \n",
    "\n",
    "Each function you declare creates a bubble for itself, but there are other mechanisms that can create their own scope bubbles.\n",
    "\n",
    "***Principle of Least Privilege (Least Authority, or Least Exposure)*** - is the process of only exposing what is minimally necessary and \"hide\" everything else. Allowing information to be exposed is not only unnecessary but also possibly \"dangerous\", in that they may be used in unexpected ways, intentionally or not. It is advised to hide private details inside its intended scope, and keep private details private, which is usually considered better software.\n",
    "\n",
    "***Collision Avoidance*** is the unintended collision between two different identifiers with the same name, but different intended usages. Collision results often in unexpected overwriting of values.\n",
    "\n",
    "* ***Global Namespace*** - the most likely occurance of collision is within in the global namespace. Multiple libraries loaded into your program can quite easily collide with each other if they don't properly hide their internal/private functions and variables. Such libraries typically will create a single variable declaration, often an object, with sufficiently unique name, in the global scope. This object is then used as a namespace for that library, where all exposures of functionality are made as properties of that object (namespace).\n",
    "\n",
    "* ***Module Management*** - the modern module approach is the best option for collision avoidance. By using a module approach, no libraries ever add any identifiers to the global scope, but are instead required to have thier identifiers be explicitly imported into another specific scope through usage of the dependency manager's various mechanisms. There are no identifiers injected into any shared scope, and are instead kept in private non-collsion-susceptible scopes.\n",
    "\n"
   ]
  },
  {
   "cell_type": "markdown",
   "id": "f4dbfad0-171b-4f88-a2a5-672177100b53",
   "metadata": {},
   "source": [
    "___\n",
    "## Functions as Scope\n",
    "Chapter 3, Page 28 - 32  \n",
    "\n",
    "Using functions as scope works to privatize or hide variables. While this technique works, it is not necessarily very ideal. A few problems are introduced, you are declaring a named function that pollutes the enclosing scope, and you have to explicitly call it by name in order to execute it. This can be solved by using function expressions.\n",
    "\n",
    "* ***Function Declaration*** - is defined using the <code>function</code> keyword followed by the name of the function\n",
    "* ***Function Expression*** - is defined as an anonymous function"
   ]
  },
  {
   "cell_type": "code",
   "execution_count": 1,
   "id": "bcf6d967-c6a8-449a-96de-961148416c7d",
   "metadata": {},
   "outputs": [
    {
     "name": "stdout",
     "output_type": "stream",
     "text": [
      "foo\n",
      "bar\n"
     ]
    }
   ],
   "source": [
    "// Function declarations vs function expressions\n",
    "(() => {\n",
    "\n",
    "    // Function Declaration\n",
    "    function foo() {\n",
    "        console.log('foo');\n",
    "    }\n",
    "    foo();\n",
    "    \n",
    "    // Function Expression\n",
    "    let bar = function() {\n",
    "        console.log('bar');\n",
    "    };\n",
    "    bar();\n",
    "    \n",
    "})();"
   ]
  },
  {
   "cell_type": "markdown",
   "id": "5b236cdc-2628-4924-b7d3-e8290c3dea6c",
   "metadata": {},
   "source": [
    "***UMD (Universal Module Definition)*** - is an alternative way of writing an IIFE. Some people find it a little clearer to understand, though it is slightly more verbose. Here is an example:"
   ]
  },
  {
   "cell_type": "code",
   "execution_count": 2,
   "id": "6394bac1-1ef5-4ddc-b76b-6c238278ea12",
   "metadata": {},
   "outputs": [
    {
     "name": "stdout",
     "output_type": "stream",
     "text": [
      "foo\n",
      "bar\n"
     ]
    }
   ],
   "source": [
    "// UMD\n",
    "((def) => {\n",
    "    def();\n",
    "})(function def(){\n",
    "    console.log('foo');\n",
    "});\n",
    "\n",
    "// Normal IIFE\n",
    "(() => {\n",
    "    console.log('bar');\n",
    "})();"
   ]
  },
  {
   "cell_type": "markdown",
   "id": "83987c67-bdc5-4d7b-904e-d3ceb47f2a59",
   "metadata": {},
   "source": [
    "___\n",
    "## Blocks as Scope\n",
    "Chapter 3, Page 33 - 35  \n",
    "\n",
    "Many languages other than JavaScript support block scope, and so developers from those languages are accustomed to the mindset, whereas those who've primarily only worked in JavaScript may find the concept slightly foreign\n",
    "\n",
    "For Example, the variable <code>i</code> directly inside the <code>for</code> loop head for which <code>i</code> scopes itself to the enclosing scope (function or global)"
   ]
  },
  {
   "cell_type": "code",
   "execution_count": 3,
   "id": "88d6a8d0-f4a7-4b5b-a428-9609174bcefe",
   "metadata": {},
   "outputs": [
    {
     "name": "stdout",
     "output_type": "stream",
     "text": [
      "0\n",
      "1\n"
     ]
    }
   ],
   "source": [
    "// i is attached to the scope of the for loop\n",
    "(() => {\n",
    "\n",
    "    for(let i = 0; i < 2; i++) {\n",
    "        console.log(i);\n",
    "    }\n",
    "    \n",
    "})();"
   ]
  },
  {
   "cell_type": "markdown",
   "id": "af1fcd7f-4659-47e3-8780-84f9886a5452",
   "metadata": {},
   "source": [
    "### try/catch\n",
    "It's a very little known fact that JavaScript in ES3 specified the variable declaration in the catch clause of a try/catch to be block-scoped to the <code>catch</code> block."
   ]
  },
  {
   "cell_type": "code",
   "execution_count": 4,
   "id": "66d96442-de7d-48b7-8c6c-b9c23b399931",
   "metadata": {},
   "outputs": [
    {
     "name": "stdout",
     "output_type": "stream",
     "text": [
      "TypeError: undefined is not a function\n",
      "    at evalmachine.<anonymous>:3:5\n",
      "    at Script.runInThisContext (node:vm:129:12)\n",
      "    at Object.runInThisContext (node:vm:305:38)\n",
      "    at run ([eval]:1020:15)\n",
      "    at onRunRequest ([eval]:864:18)\n",
      "    at onMessage ([eval]:828:13)\n",
      "    at process.emit (node:events:390:28)\n",
      "    at emit (node:internal/child_process:917:12)\n",
      "    at processTicksAndRejections (node:internal/process/task_queues:84:21)\n"
     ]
    },
    {
     "ename": "ReferenceError",
     "evalue": "err is not defined",
     "execution_count": 4,
     "output_type": "error",
     "traceback": [
      "evalmachine.<anonymous>:7",
      "console.log(err); // ReferenceError: `err` not found",
      "            ^",
      "",
      "ReferenceError: err is not defined",
      "    at evalmachine.<anonymous>:7:13",
      "    at Script.runInThisContext (node:vm:129:12)",
      "    at Object.runInThisContext (node:vm:305:38)",
      "    at run ([eval]:1020:15)",
      "    at onRunRequest ([eval]:864:18)",
      "    at onMessage ([eval]:828:13)",
      "    at process.emit (node:events:390:28)",
      "    at emit (node:internal/child_process:917:12)",
      "    at processTicksAndRejections (node:internal/process/task_queues:84:21)"
     ]
    }
   ],
   "source": [
    "// try/catch has had block scoping since ES3\n",
    "try {\n",
    "    undefined(); // illegal operation to force an exception\n",
    "} catch (err) {\n",
    "    console.log(err); // works!\n",
    "}\n",
    "console.log(err); // ReferenceError: `err` not found"
   ]
  },
  {
   "cell_type": "markdown",
   "id": "fdd7c04e-72ac-4032-9bc8-fbd76b373f41",
   "metadata": {},
   "source": [
    "Although this may seem like a useless academic, the catch clause has block-scoping to it, which means it can be used as a pollyfill for block scope in pre-ES6 environments. The code is ugly, but the point is that tools can transpile ES6 code to work in pre-ES6 environments."
   ]
  },
  {
   "cell_type": "code",
   "execution_count": 5,
   "id": "cc6892bd-b119-4100-984f-3a1f3147d14f",
   "metadata": {},
   "outputs": [
    {
     "name": "stdout",
     "output_type": "stream",
     "text": [
      "2\n"
     ]
    }
   ],
   "source": [
    "// ES6 Block Scoping\n",
    "(() => {\n",
    "    \n",
    "    let a = 2;\n",
    "    console.log(a);\n",
    "\n",
    "})();"
   ]
  },
  {
   "cell_type": "code",
   "execution_count": 6,
   "id": "f9181ee8-2541-43c0-9449-e73505383aeb",
   "metadata": {},
   "outputs": [
    {
     "name": "stdout",
     "output_type": "stream",
     "text": [
      "2\n"
     ]
    }
   ],
   "source": [
    "// Pre-ES6 block scoping\n",
    "(() => {\n",
    "\n",
    "    try {\n",
    "        throw 2;\n",
    "    } catch ( a ) {\n",
    "        console.log(a);\n",
    "    }\n",
    "\n",
    "})();"
   ]
  },
  {
   "cell_type": "code",
   "execution_count": 7,
   "id": "e1550ad4-2f68-4ef2-99ff-51891936be5b",
   "metadata": {},
   "outputs": [
    {
     "name": "stdout",
     "output_type": "stream",
     "text": [
      "2\n"
     ]
    }
   ],
   "source": [
    "// Output Produce By Traceur for Pre-ES6\n",
    "(() => {\n",
    "\n",
    "    {\n",
    "        try {\n",
    "            throw undefined;\n",
    "        } catch (a) {\n",
    "            a = 2;\n",
    "            console.log(a);\n",
    "        }\n",
    "    }\n",
    "\n",
    "})();"
   ]
  },
  {
   "cell_type": "markdown",
   "id": "4657b6f0-e790-42d9-b8dc-5ed6a9e90435",
   "metadata": {},
   "source": [
    "___\n",
    "## <code>let</code>\n",
    "Chapter 3, Page 35 - 38  \n",
    "\n",
    "ES6 introduces a new keyword <code>let</code> which sits alongside var as another way to declare variables. The <code>let</code> keyword attaches the variable declaration to the scope of whatever block its contained in."
   ]
  },
  {
   "cell_type": "code",
   "execution_count": 8,
   "id": "b5007678-1d1e-4d03-9220-6ba32f91d851",
   "metadata": {},
   "outputs": [
    {
     "name": "stdout",
     "output_type": "stream",
     "text": [
      "2\n",
      "1\n",
      "12\n"
     ]
    },
    {
     "ename": "ReferenceError",
     "evalue": "foo is not defined",
     "execution_count": 8,
     "output_type": "error",
     "traceback": [
      "evalmachine.<anonymous>:12",
      "    console.log(foo + 10); // Reference Error",
      "                ^",
      "",
      "ReferenceError: foo is not defined",
      "    at evalmachine.<anonymous>:12:17",
      "    at evalmachine.<anonymous>:14:3",
      "    at Script.runInThisContext (node:vm:129:12)",
      "    at Object.runInThisContext (node:vm:305:38)",
      "    at run ([eval]:1020:15)",
      "    at onRunRequest ([eval]:864:18)",
      "    at onMessage ([eval]:828:13)",
      "    at process.emit (node:events:390:28)",
      "    at emit (node:internal/child_process:917:12)",
      "    at processTicksAndRejections (node:internal/process/task_queues:84:21)"
     ]
    }
   ],
   "source": [
    "// let binding to scope\n",
    "(() => {\n",
    "\n",
    "    if (true) {\n",
    "        let foo = 1;\n",
    "        var bar = 2; \n",
    "        console.log(bar);\n",
    "        console.log(foo);\n",
    "    }\n",
    "    \n",
    "    console.log(bar + 10);\n",
    "    console.log(foo + 10); // Reference Error\n",
    "\n",
    "})();"
   ]
  },
  {
   "cell_type": "markdown",
   "id": "2e18a1a9-152d-43b1-a59a-4ae292c07d07",
   "metadata": {},
   "source": [
    "Using <code>let</code> to attach a variable to an existing block is somewhat implicit. Declaring explicit blocks is sometimes preferable over implicit or subtle code as it is easier to identify."
   ]
  },
  {
   "cell_type": "code",
   "execution_count": 9,
   "id": "15378b21-2250-4f1d-9024-f32f263ed896",
   "metadata": {},
   "outputs": [
    {
     "name": "stdout",
     "output_type": "stream",
     "text": [
      "2\n",
      "4\n"
     ]
    }
   ],
   "source": [
    "// Implicit and explicit block scopes\n",
    "(() => {\n",
    "\n",
    "    // Implicit Block Scope\n",
    "    if (true) {\n",
    "        let foobar = 2;\n",
    "        console.log(foobar);\n",
    "    }\n",
    "    \n",
    "    // Explicit Block Scope\n",
    "    {\n",
    "        let foobar = 4;\n",
    "        console.log(foobar);\n",
    "    }\n",
    "\n",
    "})();"
   ]
  },
  {
   "cell_type": "markdown",
   "id": "4bef15d9-f2ea-42db-aab3-1751cbbac72e",
   "metadata": {},
   "source": [
    "### Garbage Collection\n",
    "Another reason block scoping is useful relates to closures and garbage collection to reclaim memory. \n",
    "\n",
    "Consider:"
   ]
  },
  {
   "cell_type": "code",
   "execution_count": 10,
   "id": "e4e4c085-338f-4966-8dc2-ac35aa8fb018",
   "metadata": {},
   "outputs": [],
   "source": [
    "// No garbage collection\n",
    "(() => {\n",
    "\n",
    "    function process(data) {\n",
    "        // do something interesting\n",
    "    }\n",
    "    \n",
    "    var someReallyBigData = {}; // Not garbage collected\n",
    "    process(someReallyBigData);\n",
    "    \n",
    "    // other code to be executed\n",
    "\n",
    "})();"
   ]
  },
  {
   "cell_type": "markdown",
   "id": "a5a9a503-0b67-49bb-9eae-abcf511f0dfe",
   "metadata": {},
   "source": [
    "In the above example, someReallyBigData variable is a big waste of memory resources because it is no longer needed. By Block scoping the variable itself, as well as the processing, the garbage collector can release its memory resources. The following example will demonstrate how to use block scoping to solve this:"
   ]
  },
  {
   "cell_type": "code",
   "execution_count": 11,
   "id": "eb2d98da-18eb-41de-9cc5-48f59195b967",
   "metadata": {},
   "outputs": [],
   "source": [
    "// Blocks scopes for garbage collection\n",
    "(() => {\n",
    "\n",
    "    function process(data) {\n",
    "        // do something interesting\n",
    "    }\n",
    "    \n",
    "    { // Garbage Collected\n",
    "        let someReallyBigData = {};\n",
    "        process(someReallyBigData);\n",
    "    }\n",
    "    \n",
    "    // other code to be executed\n",
    "    \n",
    "})();"
   ]
  },
  {
   "cell_type": "markdown",
   "id": "d1b6960b-25f7-41c4-b74b-727e3be39375",
   "metadata": {},
   "source": [
    "### <code>let</code> loops\n",
    "A particular case where <code>let</code> shines is in the <code>for</code> loop. Not only does <code>let</code> in the <code>for</code> loop header bind the <code>i</code> to the <code>for</code> loop body, but it does in fact, rebinds it to each iteration of the loop, making sure to reassign it the value from the end of the previous loop iteration. "
   ]
  },
  {
   "cell_type": "code",
   "execution_count": 12,
   "id": "2f75612f-72e4-4f4a-a8fd-0b5a9ebebb72",
   "metadata": {},
   "outputs": [
    {
     "name": "stdout",
     "output_type": "stream",
     "text": [
      "0\n",
      "1\n"
     ]
    },
    {
     "ename": "ReferenceError",
     "evalue": "i is not defined",
     "execution_count": 12,
     "output_type": "error",
     "traceback": [
      "evalmachine.<anonymous>:9",
      "    console.log(i); // ReferenceError",
      "                ^",
      "",
      "ReferenceError: i is not defined",
      "    at evalmachine.<anonymous>:9:17",
      "    at evalmachine.<anonymous>:11:3",
      "    at Script.runInThisContext (node:vm:129:12)",
      "    at Object.runInThisContext (node:vm:305:38)",
      "    at run ([eval]:1020:15)",
      "    at onRunRequest ([eval]:864:18)",
      "    at onMessage ([eval]:828:13)",
      "    at process.emit (node:events:390:28)",
      "    at emit (node:internal/child_process:917:12)",
      "    at processTicksAndRejections (node:internal/process/task_queues:84:21)"
     ]
    }
   ],
   "source": [
    "// let binds to scope\n",
    "(() => {\n",
    "    \n",
    "    // Binding to scope\n",
    "    for (let i = 0; i < 2; i++) {\n",
    "        console.log(i);\n",
    "    }\n",
    "    \n",
    "    console.log(i); // ReferenceError\n",
    "\n",
    "})();"
   ]
  },
  {
   "cell_type": "markdown",
   "id": "c653a3ad-effc-4706-bead-5a1afa0831e0",
   "metadata": {},
   "source": [
    "___\n",
    "## <code>const</code>\n",
    "Chapter 3, Page 39 - 40  \n",
    "\n",
    "ES6 introduces <code>const</code>, which also creates a block scoped variable, but whose value is fixed (constant)."
   ]
  },
  {
   "cell_type": "code",
   "execution_count": 13,
   "id": "d650b368-a4c7-4576-b938-e0828b76b631",
   "metadata": {},
   "outputs": [
    {
     "ename": "TypeError",
     "evalue": "Assignment to constant variable.",
     "execution_count": 13,
     "output_type": "error",
     "traceback": [
      "evalmachine.<anonymous>:6",
      "    a = 3; // TypeError",
      "      ^",
      "",
      "TypeError: Assignment to constant variable.",
      "    at evalmachine.<anonymous>:6:7",
      "    at evalmachine.<anonymous>:8:3",
      "    at Script.runInThisContext (node:vm:129:12)",
      "    at Object.runInThisContext (node:vm:305:38)",
      "    at run ([eval]:1020:15)",
      "    at onRunRequest ([eval]:864:18)",
      "    at onMessage ([eval]:828:13)",
      "    at process.emit (node:events:390:28)",
      "    at emit (node:internal/child_process:917:12)",
      "    at processTicksAndRejections (node:internal/process/task_queues:84:21)"
     ]
    }
   ],
   "source": [
    "// Constant\n",
    "(() => {\n",
    "\n",
    "    const a = 2;\n",
    "    \n",
    "    a = 3; // TypeError\n",
    "    \n",
    "})();"
   ]
  },
  {
   "cell_type": "markdown",
   "id": "e7d06329-fef2-4e2b-ab94-6993a7c59a80",
   "metadata": {},
   "source": [
    "Although this is true for typed variables that are not identified as a direct objects, an object that is const can have its properties changed. For example:"
   ]
  },
  {
   "cell_type": "code",
   "execution_count": 14,
   "id": "0e37f7de-b58b-48d5-ab45-bdadf77a5976",
   "metadata": {},
   "outputs": [
    {
     "ename": "TypeError",
     "evalue": "Assignment to constant variable.",
     "execution_count": 14,
     "output_type": "error",
     "traceback": [
      "evalmachine.<anonymous>:10",
      "    a = {}; // TypeError",
      "      ^",
      "",
      "TypeError: Assignment to constant variable.",
      "    at evalmachine.<anonymous>:10:7",
      "    at evalmachine.<anonymous>:12:3",
      "    at Script.runInThisContext (node:vm:129:12)",
      "    at Object.runInThisContext (node:vm:305:38)",
      "    at run ([eval]:1020:15)",
      "    at onRunRequest ([eval]:864:18)",
      "    at onMessage ([eval]:828:13)",
      "    at process.emit (node:events:390:28)",
      "    at emit (node:internal/child_process:917:12)",
      "    at processTicksAndRejections (node:internal/process/task_queues:84:21)"
     ]
    }
   ],
   "source": [
    "// Constant object properties can be modified\n",
    "(() => {\n",
    "\n",
    "    const a = {\n",
    "        foo: 'bar'\n",
    "    };\n",
    "    \n",
    "    a.foo = 'foobar'; // Totally legal\n",
    "    \n",
    "    a = {}; // TypeError\n",
    "    \n",
    "})();"
   ]
  },
  {
   "cell_type": "markdown",
   "id": "20edb59f-fcd3-427d-b694-df883d0bff30",
   "metadata": {},
   "source": [
    "___\n",
    "## Hoisting\n",
    "Chapter 4, Page 41 - 46\n",
    "\n",
    "***Hoisting*** - is when a declaration of an entity is moved to be accessible throughout the entire scope.\n",
    "    \n",
    "There is a temptation to think that all of the code you see in a JavaScript program is interpreted line-by-line, top-down in order, as the program executes. While that substantially true, there's one part of that assumption that can lead to incorrect thinking about your program.\n",
    "\n",
    "Consider this code:"
   ]
  },
  {
   "cell_type": "code",
   "execution_count": 15,
   "id": "d7cc2dec-90a0-483f-80b4-7094bf936a66",
   "metadata": {},
   "outputs": [
    {
     "name": "stdout",
     "output_type": "stream",
     "text": [
      "2\n"
     ]
    }
   ],
   "source": [
    "// Hoisting Example\n",
    "(() => {\n",
    "    \n",
    "    a = 2;\n",
    "    \n",
    "    var a; // Hoisted\n",
    "    \n",
    "    console.log(a);\n",
    "\n",
    "})();"
   ]
  },
  {
   "cell_type": "markdown",
   "id": "5a6afd01-a283-44ec-b3ae-a74fa4a338a9",
   "metadata": {},
   "source": [
    "Recall that the JavaScript engine will actually compile your code before it interprets it. Referring to the top of this document where compiler theory was stated.\n",
    "\n",
    "1. Code was tokenized\n",
    "2. Lexing has occured\n",
    "2. Parsing then takes place, generating an AST (Abstract Syntax Tree). \n",
    "3. <code>var a</code> was explicitly declared and will be ***hoisted*** to the top of the tree\n",
    "4. <code>2</code> is then assigned to <code>var a</code> of that tree member\n",
    "5. <code>console.log</code> now has a reference to the variable <code>a</code> within its lexical scope. \n",
    "\n",
    "***Special Note:*** Functions are always hoisted first, then variables.\n",
    "\n",
    "The above example is actually interpreted as:"
   ]
  },
  {
   "cell_type": "code",
   "execution_count": 16,
   "id": "1fd59e72-2b56-4bc7-9190-70feadcebba1",
   "metadata": {},
   "outputs": [
    {
     "name": "stdout",
     "output_type": "stream",
     "text": [
      "2\n"
     ]
    }
   ],
   "source": [
    "// Hoisting: Actual interpretation\n",
    "(() => {\n",
    "    \n",
    "    var a;\n",
    "    \n",
    "    a = 2;\n",
    "    \n",
    "    console.log(2);\n",
    "    \n",
    "})();"
   ]
  },
  {
   "cell_type": "markdown",
   "id": "87112ab5-350a-4880-be2f-21784b7c0897",
   "metadata": {},
   "source": [
    "***Special Note***: Only the declarations themselves are hoisted, while assignments or other executable logic are left in place. For Example:"
   ]
  },
  {
   "cell_type": "code",
   "execution_count": 17,
   "id": "881099b8-815a-4c72-8589-e1c9b9d62a44",
   "metadata": {},
   "outputs": [
    {
     "name": "stdout",
     "output_type": "stream",
     "text": [
      "undefined\n"
     ]
    }
   ],
   "source": [
    "// Hoisting: Declarations Hoisted. Assignments and executable logic left in place\n",
    "(() => {\n",
    "    \n",
    "    console.log(a); // undefined\n",
    "    \n",
    "    var a; // Hoisted\n",
    "    \n",
    "    a = 2; // Not hoisted\n",
    "\n",
    "})();"
   ]
  },
  {
   "cell_type": "markdown",
   "id": "921f1c9a-07cc-444b-aa17-693f3b4c8e38",
   "metadata": {},
   "source": [
    "***Special Note:*** Function declarations are hoisted, whereas function expressions are not"
   ]
  },
  {
   "cell_type": "code",
   "execution_count": 18,
   "id": "c1b13150-83f5-47bc-9f0d-9d870037c33a",
   "metadata": {},
   "outputs": [
    {
     "name": "stdout",
     "output_type": "stream",
     "text": [
      "foo\n"
     ]
    },
    {
     "ename": "TypeError",
     "evalue": "bar is not a function",
     "execution_count": 18,
     "output_type": "error",
     "traceback": [
      "evalmachine.<anonymous>:10",
      "    bar(); // ReferenceError",
      "    ^",
      "",
      "TypeError: bar is not a function",
      "    at evalmachine.<anonymous>:10:5",
      "    at evalmachine.<anonymous>:16:3",
      "    at Script.runInThisContext (node:vm:129:12)",
      "    at Object.runInThisContext (node:vm:305:38)",
      "    at run ([eval]:1020:15)",
      "    at onRunRequest ([eval]:864:18)",
      "    at onMessage ([eval]:828:13)",
      "    at process.emit (node:events:390:28)",
      "    at emit (node:internal/child_process:917:12)",
      "    at processTicksAndRejections (node:internal/process/task_queues:84:21)"
     ]
    }
   ],
   "source": [
    "// Hoisting: Function declarations hoisted, where function expressions are not\n",
    "(() => {\n",
    "    \n",
    "    foo();\n",
    "    \n",
    "    function foo() { // Hoisted\n",
    "        console.log('foo');\n",
    "    }\n",
    "    \n",
    "    bar(); // ReferenceError\n",
    "    \n",
    "    var bar = function() { // Not Hoisted\n",
    "        console.log('bar');\n",
    "    }\n",
    "    \n",
    "})();"
   ]
  },
  {
   "cell_type": "code",
   "execution_count": null,
   "id": "8e00ad13-d628-41f2-be83-f81f3d53189c",
   "metadata": {},
   "outputs": [],
   "source": [
    "// continue on page 44"
   ]
  }
 ],
 "metadata": {
  "kernelspec": {
   "display_name": "JavaScript (Node.js)",
   "language": "javascript",
   "name": "javascript"
  },
  "language_info": {
   "file_extension": ".js",
   "mimetype": "application/javascript",
   "name": "javascript",
   "version": "16.13.1"
  }
 },
 "nbformat": 4,
 "nbformat_minor": 5
}
