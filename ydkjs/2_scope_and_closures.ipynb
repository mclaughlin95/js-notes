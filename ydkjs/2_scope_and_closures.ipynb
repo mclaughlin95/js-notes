{
 "cells": [
  {
   "cell_type": "markdown",
   "id": "e51a7912-90ea-4063-9a0d-cd205ac551b7",
   "metadata": {},
   "source": [
    "# [You Don't Know JavaScript: Scope & Closures](https://www.oreilly.com/library/view/you-dont-know/9781449335571/?_gl=1*1ue0yd7*_ga*MjA4MjY3MDQ0Mi4xNjc2Mjc1MzAz*_ga_092EL089CH*MTY3NjMzNjI5MS4yLjAuMTY3NjMzNjI5Ni41NS4wLjA.)\n",
    "Kyle Simpson (O'Reilly)  \n",
    "Copyright 2014 Getify Solutions Inc.  \n",
    "978-1-449-33558-8\n",
    "___"
   ]
  },
  {
   "cell_type": "code",
   "execution_count": null,
   "id": "4c59d5fa-7a2c-4db1-b295-bdaa8191dca4",
   "metadata": {},
   "outputs": [],
   "source": []
  }
 ],
 "metadata": {
  "kernelspec": {
   "display_name": "JavaScript (Node.js)",
   "language": "javascript",
   "name": "javascript"
  },
  "language_info": {
   "file_extension": ".js",
   "mimetype": "application/javascript",
   "name": "javascript",
   "version": "16.13.1"
  }
 },
 "nbformat": 4,
 "nbformat_minor": 5
}
