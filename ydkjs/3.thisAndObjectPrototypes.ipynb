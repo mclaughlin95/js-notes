{
 "cells": [
  {
   "cell_type": "markdown",
   "id": "2a9e8a72-3ddf-496d-bb8b-8a3f4fec7dfc",
   "metadata": {},
   "source": [
    "# [You Don't Know JavaScript: this & Object Prototypes](https://www.oreilly.com/library/view/you-dont-know/9781491905142/)\n",
    "Kyle Simpson (O'Reilly)  \n",
    "Copyright 2014 Getify Solutions Inc.  \n",
    "978-1-491-90415-2\n",
    "___"
   ]
  },
  {
   "cell_type": "markdown",
   "id": "91759f0c-0c14-4ed5-bf29-83d16cf37f4a",
   "metadata": {},
   "source": [
    "## this or That?\n",
    "Chapter 1, Page 1 - 9\n",
    "    \n",
    "<code>this</code> is a special identifier keyword that's automatically defined in the scope of every function, but it doesn't refer to itself, nor does it refer to its scope.\n",
    "\n",
    "***Incorrect Assumptions***\n",
    "1. ***Itself*** - assuming <code>this</code> refers to the function itself\n",
    "2. ***Its Scope*** - assuming <code>this</code> refers to the function scope \n",
    "\n",
    "***Note:*** The following examples are explicitly demonstrations on the incorrect assumptions about <code>this</code>. They do not illistrate on how to use <code>this</code>. That will be demonstrated later on.\n",
    "\n",
    "### 1. Itself\n",
    "<code>this</code> doesn't let a function get a reference to itself. "
   ]
  },
  {
   "cell_type": "code",
   "execution_count": 22,
   "id": "09a86707-d428-4d7d-889b-6418e229fce3",
   "metadata": {},
   "outputs": [
    {
     "name": "stdout",
     "output_type": "stream",
     "text": [
      "foo: 6\n",
      "foo: 7\n",
      "foo: 8\n",
      "foo: 9\n",
      "0\n"
     ]
    }
   ],
   "source": [
    "// DONT DO THIS\n",
    "// Example of how `this` doesn't refer to itself\n",
    "(() => {\n",
    "\n",
    "    function foo(num) {\n",
    "        console.log('foo: ' + num);\n",
    "        this.count++;\n",
    "    }\n",
    "    \n",
    "    foo.count = 0; // Accidently creates a global variable with a NaN value\n",
    "    \n",
    "    for (let i = 0; i < 10; i++) {\n",
    "        if (i > 5) {\n",
    "            foo(i);\n",
    "        }\n",
    "    }\n",
    "    \n",
    "    console.log(foo.count); // 0?\n",
    "    \n",
    "})();"
   ]
  },
  {
   "cell_type": "markdown",
   "id": "3c6ef1e5-1047-48e4-84d6-6009fa79c115",
   "metadata": {},
   "source": [
    "A lack of understanding what <code>this</code> means and how it works; developers often fall back to a comfort zone by storing state into lexical scope (like objects). There are better places to store state besides the function object. You'll come to find that passing these state objects as an explicit parameter is often messier than passing around a <code>this</code> context. For example:"
   ]
  },
  {
   "cell_type": "code",
   "execution_count": 21,
   "id": "80440e91-b85d-4f4d-a974-9c6903a205cc",
   "metadata": {},
   "outputs": [
    {
     "name": "stdout",
     "output_type": "stream",
     "text": [
      "foo: 6\n",
      "foo: 7\n",
      "foo: 8\n",
      "foo: 9\n",
      "4\n"
     ]
    }
   ],
   "source": [
    "// DONT DO THIS\n",
    "// Example of developers avoid `this` and using an object to store state\n",
    "(() => {\n",
    "\n",
    "    function foo(num) {\n",
    "        console.log('foo: ' + num);\n",
    "        data.count++;\n",
    "    }\n",
    "    \n",
    "    let data = { // Object storing state\n",
    "        count: 0\n",
    "    };\n",
    "    \n",
    "    for (let i = 0; i < 10; i++) {\n",
    "        if (i > 5) {\n",
    "            foo(i);\n",
    "        }\n",
    "    }\n",
    "    \n",
    "    console.log(data.count); // 4\n",
    "    \n",
    "})();"
   ]
  },
  {
   "cell_type": "markdown",
   "id": "d1edafe4-b1a4-4a02-8e2e-8fb9616bf4a0",
   "metadata": {},
   "source": [
    "Another way developers avoid <code>this</code> is to reference a function object from inside itself via a lexical identifier (variable) that points at it."
   ]
  },
  {
   "cell_type": "code",
   "execution_count": 24,
   "id": "6cfb18ef-dd3b-4c70-9d9f-2f1c744f73f5",
   "metadata": {},
   "outputs": [
    {
     "name": "stdout",
     "output_type": "stream",
     "text": [
      "foo: 6\n",
      "foo: 7\n",
      "foo: 8\n",
      "foo: 9\n",
      "4\n"
     ]
    }
   ],
   "source": [
    "// DONT DO THIS\n",
    "// Example of using a lexical identifier that points to itself\n",
    "(() => {\n",
    "\n",
    "    function foo(num) {\n",
    "        console.log('foo: ' + num);\n",
    "        foo.count++; // The lexical identifier\n",
    "    }\n",
    "    \n",
    "    foo.count = 0; // No longer creates a global variable\n",
    "    \n",
    "    for (let i = 0; i < 10; i++) {\n",
    "        if (i > 5) {\n",
    "            foo(i);\n",
    "        }\n",
    "    }\n",
    "    \n",
    "    console.log(foo.count); // 4\n",
    "\n",
    "})();"
   ]
  },
  {
   "cell_type": "markdown",
   "id": "b3b2b5c2-5779-4eb4-836c-49900c92cabf",
   "metadata": {},
   "source": [
    "Another way developers use <code>this</code> incorrectly is to force <code>this</code> to point to the function object"
   ]
  },
  {
   "cell_type": "code",
   "execution_count": 30,
   "id": "5ea8e64b-0ebd-4d8a-a5a6-f0208ae0780d",
   "metadata": {},
   "outputs": [
    {
     "name": "stdout",
     "output_type": "stream",
     "text": [
      "foo: 6\n",
      "foo: 7\n",
      "foo: 8\n",
      "foo: 9\n",
      "4\n"
     ]
    }
   ],
   "source": [
    "// DONT DO THIS\n",
    "// Example of forcing `this` to point to a function object\n",
    "(() => {\n",
    "\n",
    "    function foo(num) {\n",
    "        console.log('foo: ' + num);\n",
    "        this.count++;\n",
    "    }\n",
    "    \n",
    "    foo.count = 0; // No longer creates a global variable\n",
    "    \n",
    "    for (let i = 0; i < 10; i++) {\n",
    "        if (i > 5) {\n",
    "            foo.call(foo, i); // Forcing `this` to point to `foo` by using call()\n",
    "        }\n",
    "    }\n",
    "    \n",
    "    console.log(foo.count); // 4\n",
    "\n",
    "})();"
   ]
  },
  {
   "cell_type": "markdown",
   "id": "0f71db07-52e0-4bbf-83bb-a1e74f61e8b8",
   "metadata": {},
   "source": [
    "### 2. Its Scope\n",
    "<code>this</code> does not, in any way, refer to a function's lexical scope. It is true that internally, scope is kind of like an object with properties for each of the available identifiers. But the scope \"object\" is not accessible to JavaScript code. It's an inner part of the engine's implementation."
   ]
  },
  {
   "cell_type": "code",
   "execution_count": 43,
   "id": "bf30fb73-1b12-478e-b1d8-dca4d94eb3a9",
   "metadata": {},
   "outputs": [
    {
     "name": "stdout",
     "output_type": "stream",
     "text": [
      "undefined\n"
     ]
    }
   ],
   "source": [
    "// Example of trying to refer to a functions lexical scope\n",
    "(()=>{\n",
    "\n",
    "    function foo() {\n",
    "        var a = 2;\n",
    "        this.bar();\n",
    "    }\n",
    "    \n",
    "    function bar() {\n",
    "        console.log(this.a);\n",
    "    }\n",
    "    \n",
    "    foo();\n",
    "\n",
    "})();"
   ]
  },
  {
   "cell_type": "markdown",
   "id": "eea37ec3-0832-4f76-9fd8-95325bb4cd62",
   "metadata": {},
   "source": [
    "You cannot use a <code>this</code> reference to look something up in a lexical scope. Everytime you feel yourself trying to mix lexical scope look-ups with <code>this</code>, remind yourself: there is no bridge."
   ]
  },
  {
   "cell_type": "markdown",
   "id": "13ce8789-ea85-4483-8cd2-e929c2d12f75",
   "metadata": {},
   "source": [
    "### What's <code>this</code>?\n",
    "<code>this</code> is not an author-time binding, but a runtime binding. <code>this</code> has nothing to do with where a function is declared, but has instead everything to do with the manner in which the function was called. When a function is invoked, an activation record, otherwise known as an execution context, is created. This record contains information about where the function was called from (the call stack), how the function was invoked, what parameters were passed etc. One of the properties of this record is the <code>this</code> reference, which will be used for the duration of that functions execution. <code>this</code> is actually a binding that is made when a function is invoked, and what it references is determined entirely by the call-site where the function is called."
   ]
  },
  {
   "cell_type": "markdown",
   "id": "789f6f8d-d7b7-4ee9-8746-c840a1ad1b34",
   "metadata": {},
   "source": [
    "___\n",
    "## <code>this</code> All Makes Sense Now!\n",
    "Chapter 2, Page 11 - \n",
    "    \n",
    "### Call-Site\n",
    "***Call-Site*** is the location in code where a function is called (not where it's declared). Finding the call-site is generally \"go locate where a function is called from\", but it's not always that easy, as certain coding patterns can obscure the true call-site. The call-site we care about is in the invocation before the currently executing function."
   ]
  },
  {
   "cell_type": "code",
   "execution_count": 44,
   "id": "e2c9d632-bba4-4080-ba20-463218c0ef32",
   "metadata": {},
   "outputs": [
    {
     "name": "stdout",
     "output_type": "stream",
     "text": [
      "baz\n",
      "bar\n",
      "foo\n"
     ]
    }
   ],
   "source": [
    "(() => {\n",
    "\n",
    "    function baz() {\n",
    "        // call-stack is `baz`\n",
    "        // call-site is global scope\n",
    "        console.log('baz');\n",
    "        bar(); // call-site for `bar`\n",
    "    }\n",
    "    \n",
    "    function bar() {\n",
    "        // call-stack is `baz` --> `bar`\n",
    "        // call-site is in `baz`\n",
    "        console.log('bar');\n",
    "        foo(); // call-site for `foo`\n",
    "    }\n",
    "    \n",
    "    function foo() {\n",
    "        // call-stack is `baz` --> `bar` --> `foo`\n",
    "        // call-site is in `bar`\n",
    "        console.log('foo');\n",
    "    }\n",
    "    \n",
    "    baz(); // call-site for `baz`\n",
    "    \n",
    "})();"
   ]
  },
  {
   "cell_type": "markdown",
   "id": "064bc8d2-2b60-4064-88d2-00acc8253fe4",
   "metadata": {},
   "source": [
    "***Special Note***: take care when analyzing code to find the actual call-site (from the call-stack), because it's the only thing that matters for <code>this</code> binding."
   ]
  },
  {
   "cell_type": "code",
   "execution_count": null,
   "id": "2549f78a-b9e1-4a70-aac5-b9c9bd5dc027",
   "metadata": {},
   "outputs": [],
   "source": []
  }
 ],
 "metadata": {
  "kernelspec": {
   "display_name": "JavaScript (Node.js)",
   "language": "javascript",
   "name": "javascript"
  },
  "language_info": {
   "file_extension": ".js",
   "mimetype": "application/javascript",
   "name": "javascript",
   "version": "16.13.1"
  }
 },
 "nbformat": 4,
 "nbformat_minor": 5
}
