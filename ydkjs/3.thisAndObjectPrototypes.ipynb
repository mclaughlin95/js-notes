{
 "cells": [
  {
   "cell_type": "markdown",
   "id": "2a9e8a72-3ddf-496d-bb8b-8a3f4fec7dfc",
   "metadata": {},
   "source": [
    "# [You Don't Know JavaScript: this & Object Prototypes](https://www.oreilly.com/library/view/you-dont-know/9781491905142/)\n",
    "Kyle Simpson (O'Reilly)  \n",
    "Copyright 2014 Getify Solutions Inc.  \n",
    "978-1-491-90415-2\n",
    "\n",
    "___"
   ]
  },
  {
   "cell_type": "markdown",
   "id": "91759f0c-0c14-4ed5-bf29-83d16cf37f4a",
   "metadata": {},
   "source": [
    "## this or That?\n",
    "Chapter 1, Page 1 - 9\n",
    "    \n",
    "<code>this</code> is a special identifier keyword that's automatically defined in the scope of every function, but it doesn't refer to itself, nor does it refer to its scope.\n",
    "\n",
    "**Incorrect Assumptions**\n",
    "1. **Itself** - assuming <code>this</code> refers to the function itself\n",
    "2. **Its Scope** - assuming <code>this</code> refers to the function scope \n",
    "\n",
    "**Note:** The following examples are explicitly demonstrations on the incorrect assumptions about <code>this</code>. They do not illistrate on how to use <code>this</code>. That will be demonstrated later on.\n",
    "\n",
    "### 1. Itself\n",
    "<code>this</code> doesn't let a function get a reference to itself. "
   ]
  },
  {
   "cell_type": "code",
   "execution_count": 1,
   "id": "09a86707-d428-4d7d-889b-6418e229fce3",
   "metadata": {},
   "outputs": [
    {
     "name": "stdout",
     "output_type": "stream",
     "text": [
      "foo: 6\n",
      "foo: 7\n",
      "foo: 8\n",
      "foo: 9\n",
      "0\n"
     ]
    }
   ],
   "source": [
    "// DONT DO THIS\n",
    "// Example of how `this` doesn't refer to itself\n",
    "(() => {\n",
    "\n",
    "    function foo(num) {\n",
    "        console.log('foo: ' + num);\n",
    "        this.count++;\n",
    "    }\n",
    "    \n",
    "    foo.count = 0; // Accidently creates a global variable with a NaN value\n",
    "    \n",
    "    for (let i = 0; i < 10; i++) {\n",
    "        if (i > 5) {\n",
    "            foo(i);\n",
    "        }\n",
    "    }\n",
    "    \n",
    "    console.log(foo.count); // 0?\n",
    "    \n",
    "})();"
   ]
  },
  {
   "cell_type": "markdown",
   "id": "3c6ef1e5-1047-48e4-84d6-6009fa79c115",
   "metadata": {},
   "source": [
    "A lack of understanding what <code>this</code> means and how it works; developers often fall back to a comfort zone by storing state into lexical scope (like objects). There are better places to store state besides the function object. You'll come to find that passing these state objects as an explicit parameter is often messier than passing around a <code>this</code> context. For example:"
   ]
  },
  {
   "cell_type": "code",
   "execution_count": 2,
   "id": "80440e91-b85d-4f4d-a974-9c6903a205cc",
   "metadata": {},
   "outputs": [
    {
     "name": "stdout",
     "output_type": "stream",
     "text": [
      "foo: 6\n",
      "foo: 7\n",
      "foo: 8\n",
      "foo: 9\n",
      "4\n"
     ]
    }
   ],
   "source": [
    "// DONT DO THIS\n",
    "// Example of developers avoid `this` and using an object to store state\n",
    "(() => {\n",
    "\n",
    "    function foo(num) {\n",
    "        console.log('foo: ' + num);\n",
    "        data.count++;\n",
    "    }\n",
    "    \n",
    "    let data = { // Object storing state\n",
    "        count: 0\n",
    "    };\n",
    "    \n",
    "    for (let i = 0; i < 10; i++) {\n",
    "        if (i > 5) {\n",
    "            foo(i);\n",
    "        }\n",
    "    }\n",
    "    \n",
    "    console.log(data.count); // 4\n",
    "    \n",
    "})();"
   ]
  },
  {
   "cell_type": "markdown",
   "id": "d1edafe4-b1a4-4a02-8e2e-8fb9616bf4a0",
   "metadata": {},
   "source": [
    "Another way developers avoid <code>this</code> is to reference a function object from inside itself via a lexical identifier (variable) that points at it."
   ]
  },
  {
   "cell_type": "code",
   "execution_count": 3,
   "id": "6cfb18ef-dd3b-4c70-9d9f-2f1c744f73f5",
   "metadata": {},
   "outputs": [
    {
     "name": "stdout",
     "output_type": "stream",
     "text": [
      "foo: 6\n",
      "foo: 7\n",
      "foo: 8\n",
      "foo: 9\n",
      "4\n"
     ]
    }
   ],
   "source": [
    "// DONT DO THIS\n",
    "// Example of using a lexical identifier that points to itself\n",
    "(() => {\n",
    "\n",
    "    function foo(num) {\n",
    "        console.log('foo: ' + num);\n",
    "        foo.count++; // The lexical identifier\n",
    "    }\n",
    "    \n",
    "    foo.count = 0; // No longer creates a global variable\n",
    "    \n",
    "    for (let i = 0; i < 10; i++) {\n",
    "        if (i > 5) {\n",
    "            foo(i);\n",
    "        }\n",
    "    }\n",
    "    \n",
    "    console.log(foo.count); // 4\n",
    "\n",
    "})();"
   ]
  },
  {
   "cell_type": "markdown",
   "id": "b3b2b5c2-5779-4eb4-836c-49900c92cabf",
   "metadata": {},
   "source": [
    "Another way developers use <code>this</code> incorrectly is to force <code>this</code> to point to the function object"
   ]
  },
  {
   "cell_type": "code",
   "execution_count": 4,
   "id": "5ea8e64b-0ebd-4d8a-a5a6-f0208ae0780d",
   "metadata": {},
   "outputs": [
    {
     "name": "stdout",
     "output_type": "stream",
     "text": [
      "foo: 6\n",
      "foo: 7\n",
      "foo: 8\n",
      "foo: 9\n",
      "4\n"
     ]
    }
   ],
   "source": [
    "// DONT DO THIS\n",
    "// Example of forcing `this` to point to a function object\n",
    "(() => {\n",
    "\n",
    "    function foo(num) {\n",
    "        console.log('foo: ' + num);\n",
    "        this.count++;\n",
    "    }\n",
    "    \n",
    "    foo.count = 0; // No longer creates a global variable\n",
    "    \n",
    "    for (let i = 0; i < 10; i++) {\n",
    "        if (i > 5) {\n",
    "            foo.call(foo, i); // Forcing `this` to point to `foo` by using call()\n",
    "        }\n",
    "    }\n",
    "    \n",
    "    console.log(foo.count); // 4\n",
    "\n",
    "})();"
   ]
  },
  {
   "cell_type": "markdown",
   "id": "0f71db07-52e0-4bbf-83bb-a1e74f61e8b8",
   "metadata": {},
   "source": [
    "### 2. Its Scope\n",
    "<code>this</code> does not, in any way, refer to a function's lexical scope. It is true that internally, scope is kind of like an object with properties for each of the available identifiers. But the scope \"object\" is not accessible to JavaScript code. It's an inner part of the engine's implementation."
   ]
  },
  {
   "cell_type": "code",
   "execution_count": 5,
   "id": "bf30fb73-1b12-478e-b1d8-dca4d94eb3a9",
   "metadata": {},
   "outputs": [
    {
     "ename": "TypeError",
     "evalue": "this.bar is not a function",
     "execution_count": 5,
     "output_type": "error",
     "traceback": [
      "evalmachine.<anonymous>:6",
      "        this.bar();",
      "             ^",
      "",
      "TypeError: this.bar is not a function",
      "    at foo (evalmachine.<anonymous>:6:14)",
      "    at evalmachine.<anonymous>:13:5",
      "    at evalmachine.<anonymous>:15:3",
      "    at Script.runInThisContext (node:vm:129:12)",
      "    at Object.runInThisContext (node:vm:305:38)",
      "    at run ([eval]:1020:15)",
      "    at onRunRequest ([eval]:864:18)",
      "    at onMessage ([eval]:828:13)",
      "    at process.emit (node:events:390:28)",
      "    at emit (node:internal/child_process:917:12)"
     ]
    }
   ],
   "source": [
    "// Example of trying to refer to a functions lexical scope\n",
    "(()=>{\n",
    "\n",
    "    function foo() {\n",
    "        var a = 2;\n",
    "        this.bar();\n",
    "    }\n",
    "    \n",
    "    function bar() {\n",
    "        console.log(this.a);\n",
    "    }\n",
    "    \n",
    "    foo();\n",
    "\n",
    "})();"
   ]
  },
  {
   "cell_type": "markdown",
   "id": "eea37ec3-0832-4f76-9fd8-95325bb4cd62",
   "metadata": {},
   "source": [
    "You cannot use a <code>this</code> reference to look something up in a lexical scope. Everytime you feel yourself trying to mix lexical scope look-ups with <code>this</code>, remind yourself: there is no bridge."
   ]
  },
  {
   "cell_type": "markdown",
   "id": "13ce8789-ea85-4483-8cd2-e929c2d12f75",
   "metadata": {},
   "source": [
    "### What's <code>this</code>?\n",
    "<code>this</code> is not an author-time binding, but a runtime binding. <code>this</code> has nothing to do with where a function is declared, but has instead everything to do with the manner in which the function was called. When a function is invoked, an activation record, otherwise known as an execution context, is created. This record contains information about where the function was called from (the call stack), how the function was invoked, what parameters were passed etc. One of the properties of this record is the <code>this</code> reference, which will be used for the duration of that functions execution. <code>this</code> is actually a binding that is made when a function is invoked, and what it references is determined entirely by the call-site where the function is called."
   ]
  },
  {
   "cell_type": "markdown",
   "id": "789f6f8d-d7b7-4ee9-8746-c840a1ad1b34",
   "metadata": {},
   "source": [
    "___\n",
    "## <code>this</code> All Makes Sense Now!\n",
    "Chapter 2, Page 11 - 34\n",
    "    \n",
    "### Call-Site\n",
    "**Call-Site** is the location in code where a function is called (not where it's declared). Finding the call-site is generally \"go locate where a function is called from\", but it's not always that easy, as certain coding patterns can obscure the true call-site. The call-site we care about is in the invocation before the currently executing function."
   ]
  },
  {
   "cell_type": "code",
   "execution_count": 6,
   "id": "e2c9d632-bba4-4080-ba20-463218c0ef32",
   "metadata": {},
   "outputs": [
    {
     "name": "stdout",
     "output_type": "stream",
     "text": [
      "baz\n",
      "bar\n",
      "foo\n"
     ]
    }
   ],
   "source": [
    "(() => {\n",
    "\n",
    "    function baz() {\n",
    "        // call-stack is `baz`\n",
    "        // call-site is global scope\n",
    "        console.log('baz');\n",
    "        bar(); // call-site for `bar`\n",
    "    }\n",
    "    \n",
    "    function bar() {\n",
    "        // call-stack is `baz` --> `bar`\n",
    "        // call-site is in `baz`\n",
    "        console.log('bar');\n",
    "        foo(); // call-site for `foo`\n",
    "    }\n",
    "    \n",
    "    function foo() {\n",
    "        // call-stack is `baz` --> `bar` --> `foo`\n",
    "        // call-site is in `bar`\n",
    "        console.log('foo');\n",
    "    }\n",
    "    \n",
    "    baz(); // call-site for `baz`\n",
    "    \n",
    "})();"
   ]
  },
  {
   "cell_type": "markdown",
   "id": "064bc8d2-2b60-4064-88d2-00acc8253fe4",
   "metadata": {},
   "source": [
    "**Special Note**: take care when analyzing code to find the actual call-site (from the call-stack), because it's the only thing that matters for <code>this</code> binding. Another way to view the call stack is through a debugger in your browser."
   ]
  },
  {
   "cell_type": "markdown",
   "id": "0ac87974-67b7-4a36-ace1-ffd6bea97225",
   "metadata": {},
   "source": [
    "### Rules\n",
    "There are four rules that determines where <code>this</code> will point during the execution of a function. You must inspect the call-site and determine which of the four rules applies. Multiple rules could apply to a call stack.\n",
    "\n",
    "**Remember**: <code>this</code> only points to the direct object on how it is being called, not to whom it belongs too. Only the top/last level of an object property reference chain matters to the call-site.\n",
    "\n",
    "#### 1. Default Binding\n",
    "The default binding is the global context.<code>this</code> points the the global context, but only if there are no other rules are applied. "
   ]
  },
  {
   "cell_type": "code",
   "execution_count": 7,
   "id": "a62f2c77-4c92-49f7-8ec4-c44204a2bb1e",
   "metadata": {},
   "outputs": [
    {
     "name": "stdout",
     "output_type": "stream",
     "text": [
      "2\n"
     ]
    }
   ],
   "source": [
    "// Default binding is the global context\n",
    "(() => {\n",
    "    \n",
    "    a = 2; // global variable\n",
    "\n",
    "    function foo() {\n",
    "        console.log(this.a);\n",
    "    }\n",
    "\n",
    "    foo();\n",
    "    \n",
    "    delete a;\n",
    "    \n",
    "})();"
   ]
  },
  {
   "cell_type": "markdown",
   "id": "2c2a15f9-4e94-4f3e-aa25-ddd3f8402b5d",
   "metadata": {},
   "source": [
    "**Special Note:** strict mode will set the global context <code>undefined</code>"
   ]
  },
  {
   "cell_type": "code",
   "execution_count": 8,
   "id": "a52feef1-25df-40e6-b8de-cb47a6f35a13",
   "metadata": {},
   "outputs": [
    {
     "ename": "TypeError",
     "evalue": "Cannot read properties of undefined (reading 'a')",
     "execution_count": 8,
     "output_type": "error",
     "traceback": [
      "evalmachine.<anonymous>:7",
      "        console.log(this.a);",
      "                         ^",
      "",
      "TypeError: Cannot read properties of undefined (reading 'a')",
      "    at foo (evalmachine.<anonymous>:7:26)",
      "    at evalmachine.<anonymous>:10:5",
      "    at evalmachine.<anonymous>:11:3",
      "    at Script.runInThisContext (node:vm:129:12)",
      "    at Object.runInThisContext (node:vm:305:38)",
      "    at run ([eval]:1020:15)",
      "    at onRunRequest ([eval]:864:18)",
      "    at onMessage ([eval]:828:13)",
      "    at process.emit (node:events:390:28)",
      "    at emit (node:internal/child_process:917:12)"
     ]
    }
   ],
   "source": [
    "// Strict Mode Global Context `undefined`\n",
    "// A global variable doesn't need to be instantiated for this demonstration to work\n",
    "(() => {\n",
    "    'use strict';\n",
    "        \n",
    "    function foo(){\n",
    "        console.log(this.a);\n",
    "    }\n",
    "\n",
    "    foo();\n",
    "})();"
   ]
  },
  {
   "cell_type": "markdown",
   "id": "81a23338-61cd-4039-b8c0-1cb0d724244f",
   "metadata": {},
   "source": [
    "#### 2. Implicit Binding\n",
    "A context object, otherwise known as a owning object, or containing object, is an object who can either own or reference a property or value. Only the top/last level of an object property reference chain matters to the call-site."
   ]
  },
  {
   "cell_type": "code",
   "execution_count": 9,
   "id": "dbe5b200-33ea-461a-b754-90290c6a4873",
   "metadata": {},
   "outputs": [
    {
     "name": "stdout",
     "output_type": "stream",
     "text": [
      "42\n",
      "2\n",
      "undefined\n"
     ]
    }
   ],
   "source": [
    "// Implicit binding example\n",
    "(() => {\n",
    "\n",
    "    function foo() {\n",
    "        console.log(this.a);\n",
    "    }\n",
    "    \n",
    "    let obj2 = {\n",
    "        a: 42,\n",
    "        foo: foo\n",
    "    };\n",
    "    \n",
    "    let obj1 = {\n",
    "        a: 2,\n",
    "        obj2: obj2,\n",
    "        foo: foo\n",
    "    };\n",
    "    \n",
    "    // Implicit Binding\n",
    "    // obj2 is the last level object\n",
    "    // foo points to obj2\n",
    "    obj1.obj2.foo(); // 42\n",
    "    \n",
    "    // Implicit Binding\n",
    "    // obj1 is the last level object\n",
    "    // foo points to obj1\n",
    "    obj1.foo(); // 2\n",
    "    \n",
    "    // Default Binding\n",
    "    // global namespace is the last level object\n",
    "    // foo points to global\n",
    "    foo(); // undefined\n",
    "\n",
    "})();"
   ]
  },
  {
   "cell_type": "markdown",
   "id": "0ab8eab8-05d3-468f-9f6b-c40eab34a506",
   "metadata": {},
   "source": [
    "#### 3. Explicit Binding\n",
    "Is the process of **forcing** <code>this</code> to reference a particular object.\n",
    "\n",
    "The vast majority of functions, even the ones you create, contain additional function properties that are prototyped automatically. These functions take as their first parameter, and object to use for <code>this</code>.\n",
    "\n",
    "* <code>[[Prototype]].call()</code>\n",
    "* <code>[[Prototype]].apply()</code>"
   ]
  },
  {
   "cell_type": "code",
   "execution_count": 10,
   "id": "832adcf0-4ee8-4a62-b916-d4cdf6d433b8",
   "metadata": {},
   "outputs": [
    {
     "name": "stdout",
     "output_type": "stream",
     "text": [
      "2\n",
      "2\n"
     ]
    }
   ],
   "source": [
    "// Explicit Binding\n",
    "(() => {\n",
    "    \n",
    "    function foo() {\n",
    "        console.log(this.a);\n",
    "    }\n",
    "    \n",
    "    let obj = {\n",
    "        a: 2\n",
    "    };\n",
    "    \n",
    "    foo.call(obj); // 2\n",
    "    foo.apply(obj); // 2\n",
    "    \n",
    "})();"
   ]
  },
  {
   "cell_type": "markdown",
   "id": "9395041c-d07e-44bd-8d9f-0929731e3623",
   "metadata": {},
   "source": [
    "#### <code>call()</code> vs <code>apply()</code>\n",
    "* <code>call()</code> will take a reference functions arguments as separate arguments\n",
    "* <code>apply()</code> will take a reference functions arguments as an array argument"
   ]
  },
  {
   "cell_type": "code",
   "execution_count": 11,
   "id": "ddbd55fb-9edd-4ada-933e-0537214537df",
   "metadata": {},
   "outputs": [
    {
     "name": "stdout",
     "output_type": "stream",
     "text": [
      "20\n",
      "30\n"
     ]
    }
   ],
   "source": [
    "// call() vs apply()\n",
    "(() => {\n",
    "    \n",
    "    function foo(num2) {\n",
    "        console.log(this.num1 + num2);\n",
    "    }\n",
    "    \n",
    "    let obj1 = {\n",
    "        num1: 10\n",
    "    };\n",
    "    \n",
    "    foo.call(obj1, 10); // 20\n",
    "    foo.apply(obj1, [20]); // 30\n",
    "    \n",
    "})();"
   ]
  },
  {
   "cell_type": "markdown",
   "id": "5fe5e296-b982-4a60-b144-91077e553b09",
   "metadata": {},
   "source": [
    "**Boxing** is the process of passing a primitive value (<code>string</code>, <code>boolean</code>, <code>number</code>) as a <code>this</code> binding for <code>call()</code> or <code>apply()</code>, it is often wrapped with its object form (<code>new String()</code>, <code>new Boolean()</code>, <code>new Number()</code>)"
   ]
  },
  {
   "cell_type": "markdown",
   "id": "be8e55b5-ea65-4652-a935-3613ab3c3d4e",
   "metadata": {},
   "source": [
    "**Hard Binding** is the process of using explicit binding inside of a function that will never lose its <code>this</code> reference. This technique can be done manually, or through a built in ES5 utility called <code>bind</code>"
   ]
  },
  {
   "cell_type": "code",
   "execution_count": 12,
   "id": "ca23b3a3-51ef-43b1-9e36-ae6777c33651",
   "metadata": {},
   "outputs": [
    {
     "name": "stdout",
     "output_type": "stream",
     "text": [
      "2\n"
     ]
    }
   ],
   "source": [
    "// Manual Hard Binding\n",
    "(() => {\n",
    "\n",
    "    function foo() {\n",
    "        console.log(this.a);\n",
    "    }\n",
    "    \n",
    "    let obj = {\n",
    "        a: 2\n",
    "    };\n",
    "    \n",
    "    let bar = () => {\n",
    "        foo.call(obj); // Hard binded\n",
    "    };\n",
    "    \n",
    "    bar(); // 2\n",
    "    setTimeout(bar, 100); // 2\n",
    "    \n",
    "})();"
   ]
  },
  {
   "cell_type": "code",
   "execution_count": 13,
   "id": "f2327333-7e98-4800-b4f2-53ca3305dbec",
   "metadata": {},
   "outputs": [
    {
     "name": "stdout",
     "output_type": "stream",
     "text": [
      "2\n"
     ]
    }
   ],
   "source": [
    "(() => {\n",
    "\n",
    "    function foo() {\n",
    "        console.log(this.a);\n",
    "    }\n",
    "    \n",
    "    let obj = {\n",
    "        a: 2\n",
    "    };\n",
    "    \n",
    "    let bar = foo.bind( obj ); // Hard binded\n",
    "    \n",
    "    bar(); // 2\n",
    "\n",
    "})();"
   ]
  },
  {
   "cell_type": "markdown",
   "id": "6148b345-e3b7-4d43-9fdb-dc1b4db2e17b",
   "metadata": {},
   "source": [
    "#### 4. <code>new</code> Binding\n",
    "JavaScript has a <code>new</code> operator, but **JavaScript has no connection to class oriented functionality**. The <code>new</code> operator just fires a function. In JavaScript, constructors are just functions that happen to be called with the <code>new</code> operator in front of them. They are not attached to classes, nor are they instantiating a class. They are not even special types of function.\n",
    "\n",
    "When a function is invoked with a <code>new</code> in front of it, \"construtor call\", the following things are done automatically:\n",
    "1. A brand new object is created\n",
    "2. Newly constructor object is [[Prototype]] linked\n",
    "3. Newly constructed object is set as the <code>this</code> binding for that function call\n",
    "4. Unless the function returns its own alternate object, the new invoked function call will automotically return the newly constructed object"
   ]
  },
  {
   "cell_type": "code",
   "execution_count": 14,
   "id": "bf334eee-9805-4195-ae36-b9b16d843fb7",
   "metadata": {},
   "outputs": [
    {
     "name": "stdout",
     "output_type": "stream",
     "text": [
      "2\n"
     ]
    }
   ],
   "source": [
    "// new Binding Demonstration\n",
    "(() => {\n",
    "\n",
    "    function foo(a){\n",
    "        this.a = a;\n",
    "    }\n",
    "    \n",
    "    let bar = new foo(2); // binds `foo` as `this`\n",
    "    \n",
    "    console.log(bar.a);\n",
    "    \n",
    "})();"
   ]
  },
  {
   "cell_type": "markdown",
   "id": "ccdf3e8a-4347-42bb-a53c-722c70d37f84",
   "metadata": {},
   "source": [
    "#### Binding Precedence\n",
    "This list starting from the top, is lowest precedence to highest precedence\n",
    "\n",
    "* Default Binding (lowest priority)\n",
    "* Implicit Binding\n",
    "* Explicit Binding, <code>new</code> Binding\n",
    "\n",
    "**Special Note** <code>new</code> and <code>call()</code>/<code>apply()</code> (A.K.A Explicit Binding) cannot be used together. Explicit binding creates a new wrapper function that is hardcoded to ignore its own <code>this</code> binding, and use a manual one we provide."
   ]
  },
  {
   "cell_type": "code",
   "execution_count": 15,
   "id": "6094fc07-0cf9-442f-a35a-d85307ca8b63",
   "metadata": {},
   "outputs": [
    {
     "name": "stdout",
     "output_type": "stream",
     "text": [
      "2\n",
      "2\n",
      "3\n"
     ]
    }
   ],
   "source": [
    "// Demonstrating new Binding and Explicit Binding precedence\n",
    "(() => {\n",
    "\n",
    "    function foo(something) {\n",
    "        this.a = something;\n",
    "    }\n",
    "    \n",
    "    let obj = {};\n",
    "    \n",
    "    // Explicit Binding\n",
    "    let bar = foo.bind(obj);\n",
    "    bar(2);\n",
    "    console.log(obj.a); // 2\n",
    "    \n",
    "    // new Binding\n",
    "    let baz = new bar(3); // creates a completely different object for binding\n",
    "    console.log(obj.a); // 2\n",
    "    console.log(baz.a); // 3\n",
    "\n",
    "})();"
   ]
  },
  {
   "cell_type": "markdown",
   "id": "b4e79674-b4b0-48a6-b11d-ffeda59dd5e2",
   "metadata": {},
   "source": [
    "#### Determine <code>this</code>\n",
    "Now that each binding method and precedence has been demonstrated. Here are a few quick rules for determining what <code>this</code> is from a call-stack.\n",
    "\n",
    "1. Is the function called with <code>new</code>? IF so, <code>this</code> is the newly constructed object.\n",
    "2. Is the function called with <code>call()</code> or <code>apply()</code>, even hidden inside a <code>bind()</code>? IF so, <code>this</code> is the explicitly specified object.\n",
    "3. Is the function called with a context (implicit binding), ortherwise known as an owning or containing object? If so, <code>this</code> is that context object.\n",
    "4. Otherwise, default the <code>this</code> to the global object. If strict mode is on, <code>this</code> points to undefined"
   ]
  },
  {
   "cell_type": "markdown",
   "id": "0120501d-679c-4f7b-9174-6b8c446a61c8",
   "metadata": {},
   "source": [
    "### Lexical <code>this</code>\n",
    "Normal functions abide by the four rules, but the ES6 fat arrow <code>=\\></code> does not. The fat arrow functions adopt <code>this</code> from the enclosing (function or global) scope. The lexical binding of an arrow-function cannot be overridden (even with <code>new</code>!). Arrow functions provide an alternative to using <code>bind()</code>, but essentially disables the traditional <code>this</code> mechanism in favor to lexical scoping."
   ]
  },
  {
   "cell_type": "code",
   "execution_count": 16,
   "id": "5215739c-d0f3-478f-b70f-85e99423b637",
   "metadata": {},
   "outputs": [
    {
     "name": "stdout",
     "output_type": "stream",
     "text": [
      "2\n"
     ]
    }
   ],
   "source": [
    "// Fat Arrow Lexical demonstration\n",
    "(() => {\n",
    "\n",
    "    function foo() {\n",
    "        // return an arrow function\n",
    "        return (a) => {\n",
    "            // `this` here is lexically inherited from `foo()`\n",
    "            console.log(this.a);\n",
    "        };\n",
    "    }\n",
    "    \n",
    "    let obj1 = {\n",
    "        a: 2\n",
    "    };\n",
    "    \n",
    "    let obj2 = {\n",
    "        a: 3\n",
    "    };\n",
    "    \n",
    "    let bar = foo.call(obj1);\n",
    "    bar.call(obj2); // 2, not 3!\n",
    "\n",
    "})();"
   ]
  },
  {
   "cell_type": "markdown",
   "id": "82cd3c8a-e330-471b-84f8-0dd748412644",
   "metadata": {},
   "source": [
    "___\n"
   ]
  },
  {
   "cell_type": "code",
   "execution_count": null,
   "id": "fbd99825-2867-4bfa-8422-716c80c7812c",
   "metadata": {},
   "outputs": [],
   "source": [
    "// continue on page 35"
   ]
  }
 ],
 "metadata": {
  "kernelspec": {
   "display_name": "JavaScript (Node.js)",
   "language": "javascript",
   "name": "javascript"
  },
  "language_info": {
   "file_extension": ".js",
   "mimetype": "application/javascript",
   "name": "javascript",
   "version": "16.13.1"
  }
 },
 "nbformat": 4,
 "nbformat_minor": 5
}
