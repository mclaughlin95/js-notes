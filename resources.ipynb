{
 "cells": [
  {
   "cell_type": "markdown",
   "id": "2d40941a-e630-480b-8a0e-30c4706d43f1",
   "metadata": {},
   "source": [
    "# Resources"
   ]
  },
  {
   "cell_type": "markdown",
   "id": "9cc177af-5e9b-4b0d-a47b-6ea53e0685f4",
   "metadata": {},
   "source": [
    "* [Google JavaScript Style Guide](https://google.github.io/styleguide/jsguide.html)\n",
    "* [Source Making](https://sourcemaking.com/)\n",
    "* [ES5 Specification](https://262.ecma-international.org/5.1/)\n",
    "* [ES5 Polyfilling](https://github.com/es-shims/es5-shim)\n",
    "\n",
    "Transpilers\n",
    "* [Babel](https://babeljs.io) - transpiles ES6+ to ES5\n",
    "* [Traceur](https://github.com/google/traceur-compiler) - transpiles ES6, ES7 and beyond to ES5"
   ]
  },
  {
   "cell_type": "code",
   "execution_count": null,
   "id": "dba1fca5-600e-4731-881e-f8e88d187053",
   "metadata": {},
   "outputs": [],
   "source": []
  }
 ],
 "metadata": {
  "kernelspec": {
   "display_name": "JavaScript (Node.js)",
   "language": "javascript",
   "name": "javascript"
  },
  "language_info": {
   "file_extension": ".js",
   "mimetype": "application/javascript",
   "name": "javascript",
   "version": "16.13.1"
  }
 },
 "nbformat": 4,
 "nbformat_minor": 5
}
